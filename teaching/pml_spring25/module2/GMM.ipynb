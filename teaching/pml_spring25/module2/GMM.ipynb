{
  "nbformat": 4,
  "nbformat_minor": 0,
  "metadata": {
    "colab": {
      "provenance": []
    },
    "kernelspec": {
      "name": "python3",
      "display_name": "Python 3"
    },
    "language_info": {
      "name": "python"
    }
  },
  "cells": [
    {
      "cell_type": "code",
      "execution_count": 1,
      "metadata": {
        "id": "h1z4YLHzfmVk"
      },
      "outputs": [],
      "source": [
        "import matplotlib.pyplot as plt\n",
        "import seaborn as sns\n",
        "\n",
        "sns.set_style(\"whitegrid\")\n"
      ]
    },
    {
      "cell_type": "code",
      "source": [
        "import numpy as np\n",
        "import pandas as pd\n",
        "import scipy.stats as ss\n",
        "np.random.seed(102)\n"
      ],
      "metadata": {
        "id": "BIVRF5ZVf1A9"
      },
      "execution_count": 2,
      "outputs": []
    },
    {
      "cell_type": "code",
      "source": [],
      "metadata": {
        "id": "Ql24aEzLmzna"
      },
      "execution_count": 2,
      "outputs": []
    },
    {
      "cell_type": "markdown",
      "source": [
        "$z_i \\sim Categorical(\\pi)$\n",
        "\n",
        "$x_i | z_i \\sim Normal(\\mu_{z_i}, \\sigma_{z_i}^2)$"
      ],
      "metadata": {
        "id": "ObTBCFyeDftg"
      }
    },
    {
      "cell_type": "code",
      "source": [
        "N = 200\n",
        "pi = 0.4\n",
        "N_x = np.random.binomial(n = N, p = pi, size = 1)\n",
        "N_y = N - N_x\n",
        "print(N_x, N_y)\n",
        "mu_x = np.array(-0.8)\n",
        "sd_x = np.array(0.5)\n",
        "mu_y = np.array(1.1)\n",
        "sd_y = np.array(0.7)\n",
        "x = np.random.normal(mu_x, sd_x, N_x)\n",
        "y = np.random.normal(mu_y, sd_y, N_y)\n",
        "\n",
        "dat_x = pd.DataFrame({\"x\": x, \"label\": 0})\n",
        "dat_y = pd.DataFrame({\"x\": y, \"label\": 1})\n",
        "dat = pd.concat([dat_x, dat_y], axis=0)\n",
        "sns.histplot(data=dat, x=\"x\", hue=\"label\", binwidth=0.25)\n",
        "plt.show()"
      ],
      "metadata": {
        "colab": {
          "base_uri": "https://localhost:8080/",
          "height": 466
        },
        "id": "-GeEVObtn844",
        "outputId": "370408d0-54f6-43f8-88f8-8719cc48063f"
      },
      "execution_count": 3,
      "outputs": [
        {
          "output_type": "stream",
          "name": "stdout",
          "text": [
            "[78] [122]\n"
          ]
        },
        {
          "output_type": "display_data",
          "data": {
            "text/plain": [
              "<Figure size 640x480 with 1 Axes>"
            ],
            "image/png": "[encoded data removed]"
          },
          "metadata": {}
        }
      ]
    },
    {
      "cell_type": "code",
      "source": [
        "pi = np.array([0.5, 0.5])\n",
        "m_x = np.random.normal(size=1)\n",
        "m_y = np.random.normal(size=1)\n",
        "s_x = 0.1\n",
        "s_y = 0.1\n",
        "\n",
        "obs = dat[\"x\"].to_numpy()\n",
        "N = len(obs)"
      ],
      "metadata": {
        "id": "3CNukUHjf_rv"
      },
      "execution_count": 7,
      "outputs": []
    },
    {
      "cell_type": "markdown",
      "source": [
        "E-step: $\\gamma_{n,k}^t = \\frac{\\pi_k^t f(x_n; \\theta_k^t)}{\\sum_{k} \\pi_k^t f(x_n; \\theta_k^t)}$.\n",
        "\n",
        "M-step:\n",
        "\n",
        "- $\\pi_k^{t+1} = \\frac{\\sum_{n} \\gamma_{n,k}^t}{N}$\n",
        "- $\\mu_k^{t+1} = \\frac{\\sum_n \\gamma_{n,k}^t x_n}{\\sum_n \\gamma_{n,k}^t}$\n",
        "- $\\sigma_k^{t+1} = \\sqrt{\\frac{\\sum_n \\gamma_{n,k}^t (x_n - \\mu_k)^2}{\\sum_n \\gamma_{n,k}^t}}$\n"
      ],
      "metadata": {
        "id": "-_CakPAtBwcY"
      }
    },
    {
      "cell_type": "code",
      "source": [
        "iter = 100\n",
        "for i in range(iter):\n",
        "  # E-step:\n",
        "  gamma0 = pi[0] * ss.norm.pdf(obs, loc=m_x, scale=s_x)\n",
        "  gamma1 = pi[1] * ss.norm.pdf(obs, loc=m_y, scale=s_y)\n",
        "  norm = gamma0 + gamma1\n",
        "  gamma0 = gamma0/norm\n",
        "  gamma1 = gamma1/norm\n",
        "\n",
        "  # M-step:\n",
        "  pi[0] = np.sum(gamma0) / N\n",
        "  pi[1] = np.sum(gamma1) / N\n",
        "\n",
        "  gamma_sum0 = np.sum(gamma0)\n",
        "  gamma_sum1 = np.sum(gamma1)\n",
        "  m_x = np.sum(gamma0 * obs) / gamma_sum0\n",
        "  m_y = np.sum(gamma1 * obs) / gamma_sum1\n",
        "\n",
        "  s_x = np.sqrt(np.sum(gamma0 * (obs - m_x)**2) / gamma_sum0)\n",
        "  s_y = np.sqrt(np.sum(gamma1 * (obs - m_y)**2) / gamma_sum1)\n",
        "\n",
        "\n",
        "\n",
        "\n",
        "\n",
        "\n",
        "\n",
        "\n",
        "\n"
      ],
      "metadata": {
        "id": "gjv5xUCAE1Cx"
      },
      "execution_count": 13,
      "outputs": []
    },
    {
      "cell_type": "code",
      "source": [
        "for iter in range(100):\n",
        "  # Compute gamma^t_k\n",
        "  p0 = pi[0]*ss.norm.pdf(obs, loc=m_x, scale=s_x)\n",
        "  p1 = pi[1]*ss.norm.pdf(obs, loc=m_y, scale=s_y)\n",
        "  norm = p0 + p1\n",
        "  gamma_0 = p0/norm\n",
        "  gamma_1 = p1/norm\n",
        "  pi[0] = np.mean(gamma_0)\n",
        "  pi[1] = np.mean(gamma_1)\n",
        "  m_x = np.sum(gamma_0 * obs)/np.sum(gamma_0)\n",
        "  m_y = np.sum(gamma_1 * obs)/np.sum(gamma_1)\n",
        "  s_x = np.sqrt(np.sum(gamma_0 * (obs - m_x)**2)/np.sum(gamma_0))\n",
        "  s_y = np.sqrt(np.sum(gamma_1 * (obs - m_y)**2)/np.sum(gamma_1))\n",
        "  if iter % 10 == 0:\n",
        "    print(iter, pi, m_x, m_y, s_x, s_y)\n",
        "\n"
      ],
      "metadata": {
        "colab": {
          "base_uri": "https://localhost:8080/"
        },
        "id": "u8mq4owQgFH4",
        "outputId": "2319ffa4-8978-4a74-b04f-a4c376b4fff4"
      },
      "execution_count": null,
      "outputs": [
        {
          "output_type": "stream",
          "name": "stdout",
          "text": [
            "0 [0.29651673 0.70348327] -1.08445563671272 0.8398686266324146 0.31638606790609597 0.8248456831604043\n",
            "10 [0.36372298 0.63627702] -0.9293067389244294 0.9544341303586528 0.41786044412399953 0.788917422015034\n",
            "20 [0.39660271 0.60339729] -0.8875726073794149 1.029649942693302 0.44077455105650115 0.7328319923276344\n",
            "30 [0.40491245 0.59508755] -0.8755693009492013 1.0482544967696295 0.44765916259299177 0.7191749167593009\n",
            "40 [0.40672483 0.59327517] -0.8728707565648753 1.0522815107715908 0.44924676030853894 0.7162365663730216\n",
            "50 [0.40710742 0.59289258] -0.8722972531087297 1.0531300219021786 0.4495862886170659 0.7156184201918331\n",
            "60 [0.40718764 0.59281236] -0.8721768394206677 1.0533078500783493 0.4496576737109329 0.7154889163766065\n",
            "70 [0.40720443 0.59279557] -0.8721516217113909 1.0533450774924977 0.4496726278726938 0.7154618074231531\n",
            "80 [0.40720795 0.59279205] -0.8721463433059968 1.0533528690610572 0.44967575816817523 0.7154561337012948\n",
            "90 [0.40720868 0.59279132] -0.8721452385887318 1.053354499730572 0.449676413315857 0.7154549462721972\n"
          ]
        }
      ]
    },
    {
      "cell_type": "code",
      "source": [
        "print(mu_x, mu_y)"
      ],
      "metadata": {
        "colab": {
          "base_uri": "https://localhost:8080/"
        },
        "id": "N4P1rq0WoxzO",
        "outputId": "08150ab4-f672-4b93-c6e4-16f76c162d5e"
      },
      "execution_count": 9,
      "outputs": [
        {
          "output_type": "stream",
          "name": "stdout",
          "text": [
            "-0.8 1.1\n"
          ]
        }
      ]
    },
    {
      "cell_type": "code",
      "source": [
        "print(m_x, m_y)"
      ],
      "metadata": {
        "colab": {
          "base_uri": "https://localhost:8080/"
        },
        "id": "uhluV0hgG4cP",
        "outputId": "3282ae97-8c93-47cd-d7ca-fa3f85085384"
      },
      "execution_count": 14,
      "outputs": [
        {
          "output_type": "stream",
          "name": "stdout",
          "text": [
            "1.3238137352498969 -0.7218698672618113\n"
          ]
        }
      ]
    },
    {
      "cell_type": "code",
      "source": [
        "print(sd_x, sd_y)"
      ],
      "metadata": {
        "colab": {
          "base_uri": "https://localhost:8080/"
        },
        "id": "nmiyWvTmpWXs",
        "outputId": "ee383d99-e8f4-4df4-d454-6741fc646974"
      },
      "execution_count": 15,
      "outputs": [
        {
          "output_type": "stream",
          "name": "stdout",
          "text": [
            "0.5 0.7\n"
          ]
        }
      ]
    },
    {
      "cell_type": "code",
      "source": [
        "print(s_x, s_y)"
      ],
      "metadata": {
        "colab": {
          "base_uri": "https://localhost:8080/"
        },
        "id": "FpLpu6m2HBFb",
        "outputId": "4a7177fb-a8ac-4c46-e73a-f020e80c14a7"
      },
      "execution_count": 16,
      "outputs": [
        {
          "output_type": "stream",
          "name": "stdout",
          "text": [
            "0.5602571948857943 0.5851493384110636\n"
          ]
        }
      ]
    },
    {
      "cell_type": "code",
      "source": [
        "z = (gamma0 > 0.5).astype(int)\n",
        "print(z)"
      ],
      "metadata": {
        "colab": {
          "base_uri": "https://localhost:8080/"
        },
        "id": "-Ll0WmBPqNSE",
        "outputId": "746d7ff5-7069-42da-dea7-7d98b485f3a0"
      },
      "execution_count": 24,
      "outputs": [
        {
          "output_type": "stream",
          "name": "stdout",
          "text": [
            "[0 0 0 0 0 0 0 0 0 0 0 0 0 0 0 0 0 0 0 0 0 0 0 0 0 0 0 0 0 1 0 0 0 0 0 0 0\n",
            " 0 0 0 0 0 0 0 0 0 0 0 0 0 0 0 0 0 0 0 0 0 0 0 0 0 0 0 0 0 0 0 0 0 0 0 0 0\n",
            " 0 0 0 0 1 1 1 1 1 1 0 1 1 1 1 1 1 1 1 1 1 1 1 1 1 1 1 1 1 1 0 1 1 1 1 1 0\n",
            " 1 1 1 1 1 1 1 1 1 1 1 1 1 1 1 1 1 1 1 1 0 1 1 1 1 1 0 1 1 0 1 1 1 1 1 1 1\n",
            " 1 1 0 1 0 1 1 1 1 0 0 1 1 1 1 1 1 1 0 1 1 0 0 1 1 1 1 1 1 1 1 1 1 1 1 1 1\n",
            " 1 1 1 1 1 1 0 0 1 1 1 1 1 1 1]\n"
          ]
        }
      ]
    },
    {
      "cell_type": "code",
      "source": [
        "pred_dat = pd.DataFrame({\"x\": obs, \"label\": z})\n",
        "sns.histplot(data=pred_dat, x=\"x\", hue=\"label\", binwidth=0.25)\n",
        "plt.show()"
      ],
      "metadata": {
        "colab": {
          "base_uri": "https://localhost:8080/",
          "height": 449
        },
        "id": "ELwQVL0-qZer",
        "outputId": "ba5e2668-5a18-4dd5-a5d8-e0c4bf5ce54b"
      },
      "execution_count": 25,
      "outputs": [
        {
          "output_type": "display_data",
          "data": {
            "text/plain": [
              "<Figure size 640x480 with 1 Axes>"
            ],
            "image/png": "[encoded data removed]"
          },
          "metadata": {}
        }
      ]
    },
    {
      "cell_type": "code",
      "source": [
        "dat[\"label\"]"
      ],
      "metadata": {
        "colab": {
          "base_uri": "https://localhost:8080/",
          "height": 458
        },
        "id": "xZJ5UuJ9HV53",
        "outputId": "c63ef261-baad-497d-abfd-15a2966d0293"
      },
      "execution_count": 26,
      "outputs": [
        {
          "output_type": "execute_result",
          "data": {
            "text/plain": [
              "0      0\n",
              "1      0\n",
              "2      0\n",
              "3      0\n",
              "4      0\n",
              "      ..\n",
              "117    1\n",
              "118    1\n",
              "119    1\n",
              "120    1\n",
              "121    1\n",
              "Name: label, Length: 200, dtype: int64"
            ],
            "text/html": [
              "<div>\n",
              "<style scoped>\n",
              "    .dataframe tbody tr th:only-of-type {\n",
              "        vertical-align: middle;\n",
              "    }\n",
              "\n",
              "    .dataframe tbody tr th {\n",
              "        vertical-align: top;\n",
              "    }\n",
              "\n",
              "    .dataframe thead th {\n",
              "        text-align: right;\n",
              "    }\n",
              "</style>\n",
              "<table border=\"1\" class=\"dataframe\">\n",
              "  <thead>\n",
              "    <tr style=\"text-align: right;\">\n",
              "      <th></th>\n",
              "      <th>label</th>\n",
              "    </tr>\n",
              "  </thead>\n",
              "  <tbody>\n",
              "    <tr>\n",
              "      <th>0</th>\n",
              "      <td>0</td>\n",
              "    </tr>\n",
              "    <tr>\n",
              "      <th>1</th>\n",
              "      <td>0</td>\n",
              "    </tr>\n",
              "    <tr>\n",
              "      <th>2</th>\n",
              "      <td>0</td>\n",
              "    </tr>\n",
              "    <tr>\n",
              "      <th>3</th>\n",
              "      <td>0</td>\n",
              "    </tr>\n",
              "    <tr>\n",
              "      <th>4</th>\n",
              "      <td>0</td>\n",
              "    </tr>\n",
              "    <tr>\n",
              "      <th>...</th>\n",
              "      <td>...</td>\n",
              "    </tr>\n",
              "    <tr>\n",
              "      <th>117</th>\n",
              "      <td>1</td>\n",
              "    </tr>\n",
              "    <tr>\n",
              "      <th>118</th>\n",
              "      <td>1</td>\n",
              "    </tr>\n",
              "    <tr>\n",
              "      <th>119</th>\n",
              "      <td>1</td>\n",
              "    </tr>\n",
              "    <tr>\n",
              "      <th>120</th>\n",
              "      <td>1</td>\n",
              "    </tr>\n",
              "    <tr>\n",
              "      <th>121</th>\n",
              "      <td>1</td>\n",
              "    </tr>\n",
              "  </tbody>\n",
              "</table>\n",
              "<p>200 rows × 1 columns</p>\n",
              "</div><br><label><b>dtype:</b> int64</label>"
            ]
          },
          "metadata": {},
          "execution_count": 26
        }
      ]
    },
    {
      "cell_type": "code",
      "source": [
        "ii = np.where(z != dat[\"label\"].to_numpy())[0]\n",
        "print(ii)\n",
        "gamma0[ii]\n",
        "obs[29]"
      ],
      "metadata": {
        "colab": {
          "base_uri": "https://localhost:8080/"
        },
        "id": "G9fEy3evHj5c",
        "outputId": "25663518-3273-489e-baf4-32ccea408ed5"
      },
      "execution_count": 32,
      "outputs": [
        {
          "output_type": "stream",
          "name": "stdout",
          "text": [
            "[ 29  84 104 110 131 137 140 150 152 157 158 166 169 170 191 192]\n"
          ]
        },
        {
          "output_type": "execute_result",
          "data": {
            "text/plain": [
              "0.9142814669341432"
            ]
          },
          "metadata": {},
          "execution_count": 32
        }
      ]
    },
    {
      "cell_type": "code",
      "source": [
        "N_x = 100\n",
        "N_y = 80\n",
        "mu_x = np.array([-0.8, 1.1])\n",
        "Sigma_x = np.array([[1, 0.5], [0.5, 1]])\n",
        "mu_y = np.array([0.1, 0.3])\n",
        "Sigma_y = np.array([[1, 0.5], [0.5, 1]])\n",
        "x = np.random.multivariate_normal(mu_x, Sigma_x, N_x)\n",
        "y = np.random.multivariate_normal(mu_y, Sigma_y, N_y)\n",
        "\n",
        "dat_x = pd.DataFrame({\"x\": x[:, 0], \"y\": x[:, 1], \"label\": 0})\n",
        "dat_y = pd.DataFrame({\"x\": y[:, 0], \"y\": y[:, 1], \"label\": 1})\n",
        "dat = pd.concat([dat_x, dat_y], axis=0)\n",
        "dat\n"
      ],
      "metadata": {
        "id": "Q84HTzvsqyvI",
        "colab": {
          "base_uri": "https://localhost:8080/",
          "height": 423
        },
        "outputId": "97320066-d487-4a65-8407-0b87185807d2"
      },
      "execution_count": 33,
      "outputs": [
        {
          "output_type": "execute_result",
          "data": {
            "text/plain": [
              "           x         y  label\n",
              "0  -0.586820  1.572433      0\n",
              "1   0.871686  4.142277      0\n",
              "2  -2.453478 -0.729365      0\n",
              "3   0.178110  1.808173      0\n",
              "4  -1.621279  0.860818      0\n",
              "..       ...       ...    ...\n",
              "75  0.281713  0.160092      1\n",
              "76 -0.211890  0.505077      1\n",
              "77  0.093659  2.089523      1\n",
              "78  0.616123  0.207070      1\n",
              "79  0.486986  0.617877      1\n",
              "\n",
              "[180 rows x 3 columns]"
            ],
            "text/html": [
              "\n",
              "  <div id=\"df-fddb10e2-977d-46aa-9779-72da77874be9\" class=\"colab-df-container\">\n",
              "    <div>\n",
              "<style scoped>\n",
              "    .dataframe tbody tr th:only-of-type {\n",
              "        vertical-align: middle;\n",
              "    }\n",
              "\n",
              "    .dataframe tbody tr th {\n",
              "        vertical-align: top;\n",
              "    }\n",
              "\n",
              "    .dataframe thead th {\n",
              "        text-align: right;\n",
              "    }\n",
              "</style>\n",
              "<table border=\"1\" class=\"dataframe\">\n",
              "  <thead>\n",
              "    <tr style=\"text-align: right;\">\n",
              "      <th></th>\n",
              "      <th>x</th>\n",
              "      <th>y</th>\n",
              "      <th>label</th>\n",
              "    </tr>\n",
              "  </thead>\n",
              "  <tbody>\n",
              "    <tr>\n",
              "      <th>0</th>\n",
              "      <td>-0.586820</td>\n",
              "      <td>1.572433</td>\n",
              "      <td>0</td>\n",
              "    </tr>\n",
              "    <tr>\n",
              "      <th>1</th>\n",
              "      <td>0.871686</td>\n",
              "      <td>4.142277</td>\n",
              "      <td>0</td>\n",
              "    </tr>\n",
              "    <tr>\n",
              "      <th>2</th>\n",
              "      <td>-2.453478</td>\n",
              "      <td>-0.729365</td>\n",
              "      <td>0</td>\n",
              "    </tr>\n",
              "    <tr>\n",
              "      <th>3</th>\n",
              "      <td>0.178110</td>\n",
              "      <td>1.808173</td>\n",
              "      <td>0</td>\n",
              "    </tr>\n",
              "    <tr>\n",
              "      <th>4</th>\n",
              "      <td>-1.621279</td>\n",
              "      <td>0.860818</td>\n",
              "      <td>0</td>\n",
              "    </tr>\n",
              "    <tr>\n",
              "      <th>...</th>\n",
              "      <td>...</td>\n",
              "      <td>...</td>\n",
              "      <td>...</td>\n",
              "    </tr>\n",
              "    <tr>\n",
              "      <th>75</th>\n",
              "      <td>0.281713</td>\n",
              "      <td>0.160092</td>\n",
              "      <td>1</td>\n",
              "    </tr>\n",
              "    <tr>\n",
              "      <th>76</th>\n",
              "      <td>-0.211890</td>\n",
              "      <td>0.505077</td>\n",
              "      <td>1</td>\n",
              "    </tr>\n",
              "    <tr>\n",
              "      <th>77</th>\n",
              "      <td>0.093659</td>\n",
              "      <td>2.089523</td>\n",
              "      <td>1</td>\n",
              "    </tr>\n",
              "    <tr>\n",
              "      <th>78</th>\n",
              "      <td>0.616123</td>\n",
              "      <td>0.207070</td>\n",
              "      <td>1</td>\n",
              "    </tr>\n",
              "    <tr>\n",
              "      <th>79</th>\n",
              "      <td>0.486986</td>\n",
              "      <td>0.617877</td>\n",
              "      <td>1</td>\n",
              "    </tr>\n",
              "  </tbody>\n",
              "</table>\n",
              "<p>180 rows × 3 columns</p>\n",
              "</div>\n",
              "    <div class=\"colab-df-buttons\">\n",
              "\n",
              "  <div class=\"colab-df-container\">\n",
              "    <button class=\"colab-df-convert\" onclick=\"convertToInteractive('df-fddb10e2-977d-46aa-9779-72da77874be9')\"\n",
              "            title=\"Convert this dataframe to an interactive table.\"\n",
              "            style=\"display:none;\">\n",
              "\n",
              "  <svg xmlns=\"http://www.w3.org/2000/svg\" height=\"24px\" viewBox=\"0 -960 960 960\">\n",
              "    <path d=\"M120-120v-720h720v720H120Zm60-500h600v-160H180v160Zm220 220h160v-160H400v160Zm0 220h160v-160H400v160ZM180-400h160v-160H180v160Zm440 0h160v-160H620v160ZM180-180h160v-160H180v160Zm440 0h160v-160H620v160Z\"/>\n",
              "  </svg>\n",
              "    </button>\n",
              "\n",
              "  <style>\n",
              "    .colab-df-container {\n",
              "      display:flex;\n",
              "      gap: 12px;\n",
              "    }\n",
              "\n",
              "    .colab-df-convert {\n",
              "      background-color: #E8F0FE;\n",
              "      border: none;\n",
              "      border-radius: 50%;\n",
              "      cursor: pointer;\n",
              "      display: none;\n",
              "      fill: #1967D2;\n",
              "      height: 32px;\n",
              "      padding: 0 0 0 0;\n",
              "      width: 32px;\n",
              "    }\n",
              "\n",
              "    .colab-df-convert:hover {\n",
              "      background-color: #E2EBFA;\n",
              "      box-shadow: 0px 1px 2px rgba(60, 64, 67, 0.3), 0px 1px 3px 1px rgba(60, 64, 67, 0.15);\n",
              "      fill: #174EA6;\n",
              "    }\n",
              "\n",
              "    .colab-df-buttons div {\n",
              "      margin-bottom: 4px;\n",
              "    }\n",
              "\n",
              "    [theme=dark] .colab-df-convert {\n",
              "      background-color: #3B4455;\n",
              "      fill: #D2E3FC;\n",
              "    }\n",
              "\n",
              "    [theme=dark] .colab-df-convert:hover {\n",
              "      background-color: #434B5C;\n",
              "      box-shadow: 0px 1px 3px 1px rgba(0, 0, 0, 0.15);\n",
              "      filter: drop-shadow(0px 1px 2px rgba(0, 0, 0, 0.3));\n",
              "      fill: #FFFFFF;\n",
              "    }\n",
              "  </style>\n",
              "\n",
              "    <script>\n",
              "      const buttonEl =\n",
              "        document.querySelector('#df-fddb10e2-977d-46aa-9779-72da77874be9 button.colab-df-convert');\n",
              "      buttonEl.style.display =\n",
              "        google.colab.kernel.accessAllowed ? 'block' : 'none';\n",
              "\n",
              "      async function convertToInteractive(key) {\n",
              "        const element = document.querySelector('#df-fddb10e2-977d-46aa-9779-72da77874be9');\n",
              "        const dataTable =\n",
              "          await google.colab.kernel.invokeFunction('convertToInteractive',\n",
              "                                                    [key], {});\n",
              "        if (!dataTable) return;\n",
              "\n",
              "        const docLinkHtml = 'Like what you see? Visit the ' +\n",
              "          '<a target=\"_blank\" href=https://colab.research.google.com/notebooks/data_table.ipynb>data table notebook</a>'\n",
              "          + ' to learn more about interactive tables.';\n",
              "        element.innerHTML = '';\n",
              "        dataTable['output_type'] = 'display_data';\n",
              "        await google.colab.output.renderOutput(dataTable, element);\n",
              "        const docLink = document.createElement('div');\n",
              "        docLink.innerHTML = docLinkHtml;\n",
              "        element.appendChild(docLink);\n",
              "      }\n",
              "    </script>\n",
              "  </div>\n",
              "\n",
              "\n",
              "<div id=\"df-f90fa857-5335-4dcf-ab22-a4a0b870239d\">\n",
              "  <button class=\"colab-df-quickchart\" onclick=\"quickchart('df-f90fa857-5335-4dcf-ab22-a4a0b870239d')\"\n",
              "            title=\"Suggest charts\"\n",
              "            style=\"display:none;\">\n",
              "\n",
              "<svg xmlns=\"http://www.w3.org/2000/svg\" height=\"24px\"viewBox=\"0 0 24 24\"\n",
              "     width=\"24px\">\n",
              "    <g>\n",
              "        <path d=\"M19 3H5c-1.1 0-2 .9-2 2v14c0 1.1.9 2 2 2h14c1.1 0 2-.9 2-2V5c0-1.1-.9-2-2-2zM9 17H7v-7h2v7zm4 0h-2V7h2v10zm4 0h-2v-4h2v4z\"/>\n",
              "    </g>\n",
              "</svg>\n",
              "  </button>\n",
              "\n",
              "<style>\n",
              "  .colab-df-quickchart {\n",
              "      --bg-color: #E8F0FE;\n",
              "      --fill-color: #1967D2;\n",
              "      --hover-bg-color: #E2EBFA;\n",
              "      --hover-fill-color: #174EA6;\n",
              "      --disabled-fill-color: #AAA;\n",
              "      --disabled-bg-color: #DDD;\n",
              "  }\n",
              "\n",
              "  [theme=dark] .colab-df-quickchart {\n",
              "      --bg-color: #3B4455;\n",
              "      --fill-color: #D2E3FC;\n",
              "      --hover-bg-color: #434B5C;\n",
              "      --hover-fill-color: #FFFFFF;\n",
              "      --disabled-bg-color: #3B4455;\n",
              "      --disabled-fill-color: #666;\n",
              "  }\n",
              "\n",
              "  .colab-df-quickchart {\n",
              "    background-color: var(--bg-color);\n",
              "    border: none;\n",
              "    border-radius: 50%;\n",
              "    cursor: pointer;\n",
              "    display: none;\n",
              "    fill: var(--fill-color);\n",
              "    height: 32px;\n",
              "    padding: 0;\n",
              "    width: 32px;\n",
              "  }\n",
              "\n",
              "  .colab-df-quickchart:hover {\n",
              "    background-color: var(--hover-bg-color);\n",
              "    box-shadow: 0 1px 2px rgba(60, 64, 67, 0.3), 0 1px 3px 1px rgba(60, 64, 67, 0.15);\n",
              "    fill: var(--button-hover-fill-color);\n",
              "  }\n",
              "\n",
              "  .colab-df-quickchart-complete:disabled,\n",
              "  .colab-df-quickchart-complete:disabled:hover {\n",
              "    background-color: var(--disabled-bg-color);\n",
              "    fill: var(--disabled-fill-color);\n",
              "    box-shadow: none;\n",
              "  }\n",
              "\n",
              "  .colab-df-spinner {\n",
              "    border: 2px solid var(--fill-color);\n",
              "    border-color: transparent;\n",
              "    border-bottom-color: var(--fill-color);\n",
              "    animation:\n",
              "      spin 1s steps(1) infinite;\n",
              "  }\n",
              "\n",
              "  @keyframes spin {\n",
              "    0% {\n",
              "      border-color: transparent;\n",
              "      border-bottom-color: var(--fill-color);\n",
              "      border-left-color: var(--fill-color);\n",
              "    }\n",
              "    20% {\n",
              "      border-color: transparent;\n",
              "      border-left-color: var(--fill-color);\n",
              "      border-top-color: var(--fill-color);\n",
              "    }\n",
              "    30% {\n",
              "      border-color: transparent;\n",
              "      border-left-color: var(--fill-color);\n",
              "      border-top-color: var(--fill-color);\n",
              "      border-right-color: var(--fill-color);\n",
              "    }\n",
              "    40% {\n",
              "      border-color: transparent;\n",
              "      border-right-color: var(--fill-color);\n",
              "      border-top-color: var(--fill-color);\n",
              "    }\n",
              "    60% {\n",
              "      border-color: transparent;\n",
              "      border-right-color: var(--fill-color);\n",
              "    }\n",
              "    80% {\n",
              "      border-color: transparent;\n",
              "      border-right-color: var(--fill-color);\n",
              "      border-bottom-color: var(--fill-color);\n",
              "    }\n",
              "    90% {\n",
              "      border-color: transparent;\n",
              "      border-bottom-color: var(--fill-color);\n",
              "    }\n",
              "  }\n",
              "</style>\n",
              "\n",
              "  <script>\n",
              "    async function quickchart(key) {\n",
              "      const quickchartButtonEl =\n",
              "        document.querySelector('#' + key + ' button');\n",
              "      quickchartButtonEl.disabled = true;  // To prevent multiple clicks.\n",
              "      quickchartButtonEl.classList.add('colab-df-spinner');\n",
              "      try {\n",
              "        const charts = await google.colab.kernel.invokeFunction(\n",
              "            'suggestCharts', [key], {});\n",
              "      } catch (error) {\n",
              "        console.error('Error during call to suggestCharts:', error);\n",
              "      }\n",
              "      quickchartButtonEl.classList.remove('colab-df-spinner');\n",
              "      quickchartButtonEl.classList.add('colab-df-quickchart-complete');\n",
              "    }\n",
              "    (() => {\n",
              "      let quickchartButtonEl =\n",
              "        document.querySelector('#df-f90fa857-5335-4dcf-ab22-a4a0b870239d button');\n",
              "      quickchartButtonEl.style.display =\n",
              "        google.colab.kernel.accessAllowed ? 'block' : 'none';\n",
              "    })();\n",
              "  </script>\n",
              "</div>\n",
              "\n",
              "  <div id=\"id_9e9733ee-6657-42e6-8d83-554b2de7f0d2\">\n",
              "    <style>\n",
              "      .colab-df-generate {\n",
              "        background-color: #E8F0FE;\n",
              "        border: none;\n",
              "        border-radius: 50%;\n",
              "        cursor: pointer;\n",
              "        display: none;\n",
              "        fill: #1967D2;\n",
              "        height: 32px;\n",
              "        padding: 0 0 0 0;\n",
              "        width: 32px;\n",
              "      }\n",
              "\n",
              "      .colab-df-generate:hover {\n",
              "        background-color: #E2EBFA;\n",
              "        box-shadow: 0px 1px 2px rgba(60, 64, 67, 0.3), 0px 1px 3px 1px rgba(60, 64, 67, 0.15);\n",
              "        fill: #174EA6;\n",
              "      }\n",
              "\n",
              "      [theme=dark] .colab-df-generate {\n",
              "        background-color: #3B4455;\n",
              "        fill: #D2E3FC;\n",
              "      }\n",
              "\n",
              "      [theme=dark] .colab-df-generate:hover {\n",
              "        background-color: #434B5C;\n",
              "        box-shadow: 0px 1px 3px 1px rgba(0, 0, 0, 0.15);\n",
              "        filter: drop-shadow(0px 1px 2px rgba(0, 0, 0, 0.3));\n",
              "        fill: #FFFFFF;\n",
              "      }\n",
              "    </style>\n",
              "    <button class=\"colab-df-generate\" onclick=\"generateWithVariable('dat')\"\n",
              "            title=\"Generate code using this dataframe.\"\n",
              "            style=\"display:none;\">\n",
              "\n",
              "  <svg xmlns=\"http://www.w3.org/2000/svg\" height=\"24px\"viewBox=\"0 0 24 24\"\n",
              "       width=\"24px\">\n",
              "    <path d=\"M7,19H8.4L18.45,9,17,7.55,7,17.6ZM5,21V16.75L18.45,3.32a2,2,0,0,1,2.83,0l1.4,1.43a1.91,1.91,0,0,1,.58,1.4,1.91,1.91,0,0,1-.58,1.4L9.25,21ZM18.45,9,17,7.55Zm-12,3A5.31,5.31,0,0,0,4.9,8.1,5.31,5.31,0,0,0,1,6.5,5.31,5.31,0,0,0,4.9,4.9,5.31,5.31,0,0,0,6.5,1,5.31,5.31,0,0,0,8.1,4.9,5.31,5.31,0,0,0,12,6.5,5.46,5.46,0,0,0,6.5,12Z\"/>\n",
              "  </svg>\n",
              "    </button>\n",
              "    <script>\n",
              "      (() => {\n",
              "      const buttonEl =\n",
              "        document.querySelector('#id_9e9733ee-6657-42e6-8d83-554b2de7f0d2 button.colab-df-generate');\n",
              "      buttonEl.style.display =\n",
              "        google.colab.kernel.accessAllowed ? 'block' : 'none';\n",
              "\n",
              "      buttonEl.onclick = () => {\n",
              "        google.colab.notebook.generateWithVariable('dat');\n",
              "      }\n",
              "      })();\n",
              "    </script>\n",
              "  </div>\n",
              "\n",
              "    </div>\n",
              "  </div>\n"
            ],
            "application/vnd.google.colaboratory.intrinsic+json": {
              "type": "dataframe",
              "variable_name": "dat",
              "summary": "{\n  \"name\": \"dat\",\n  \"rows\": 180,\n  \"fields\": [\n    {\n      \"column\": \"x\",\n      \"properties\": {\n        \"dtype\": \"number\",\n        \"std\": 1.0411527687638407,\n        \"min\": -3.1082856874920193,\n        \"max\": 2.3362335878335636,\n        \"num_unique_values\": 180,\n        \"samples\": [\n          -1.5257825074961184,\n          -1.0233476959314698,\n          -0.8692140493388221\n        ],\n        \"semantic_type\": \"\",\n        \"description\": \"\"\n      }\n    },\n    {\n      \"column\": \"y\",\n      \"properties\": {\n        \"dtype\": \"number\",\n        \"std\": 1.1131507092120647,\n        \"min\": -2.527714728052167,\n        \"max\": 4.142276785719807,\n        \"num_unique_values\": 180,\n        \"samples\": [\n          0.09849964886478291,\n          1.8587376439610817,\n          -1.0863407087021306\n        ],\n        \"semantic_type\": \"\",\n        \"description\": \"\"\n      }\n    },\n    {\n      \"column\": \"label\",\n      \"properties\": {\n        \"dtype\": \"number\",\n        \"std\": 0,\n        \"min\": 0,\n        \"max\": 1,\n        \"num_unique_values\": 2,\n        \"samples\": [\n          1,\n          0\n        ],\n        \"semantic_type\": \"\",\n        \"description\": \"\"\n      }\n    }\n  ]\n}"
            }
          },
          "metadata": {},
          "execution_count": 33
        }
      ]
    },
    {
      "cell_type": "code",
      "source": [
        "\n",
        "sns.relplot(data=dat, x=\"x\", y=\"y\", hue=\"label\", kind=\"scatter\")\n",
        "plt.show()\n"
      ],
      "metadata": {
        "colab": {
          "base_uri": "https://localhost:8080/",
          "height": 506
        },
        "id": "186PdPCc7Xuf",
        "outputId": "1e9db0ac-42b5-4bda-a770-b34837f70e3a"
      },
      "execution_count": 34,
      "outputs": [
        {
          "output_type": "display_data",
          "data": {
            "text/plain": [
              "<Figure size 558.875x500 with 1 Axes>"
            ],
            "image/png": "[encoded data removed]"
          },
          "metadata": {}
        }
      ]
    },
    {
      "cell_type": "code",
      "source": [
        "pi = np.array([0.5, 0.5])\n",
        "m_x = np.random.normal(size=2)\n",
        "m_y = np.random.normal(size=2)\n",
        "S_x = np.eye(2)\n",
        "S_y = np.eye(2)\n",
        "\n",
        "obs = dat[[\"x\",\"y\"]].to_numpy()\n",
        "len(obs)\n",
        "m_x.shape"
      ],
      "metadata": {
        "colab": {
          "base_uri": "https://localhost:8080/"
        },
        "id": "g1rYUoWX7ZBi",
        "outputId": "940bc71c-883b-4d62-ef94-55e9f36fa469"
      },
      "execution_count": 42,
      "outputs": [
        {
          "output_type": "execute_result",
          "data": {
            "text/plain": [
              "(2,)"
            ]
          },
          "metadata": {},
          "execution_count": 42
        }
      ]
    },
    {
      "cell_type": "code",
      "source": [
        "for iter in range(500):\n",
        "  # Compute gamma^t_k\n",
        "  p0 = pi[0]*ss.multivariate_normal.pdf(obs, mean=m_x, cov=S_x)\n",
        "  p1 = pi[1]*ss.multivariate_normal.pdf(obs, mean=m_y, cov=S_y)\n",
        "  norm = p0 + p1\n",
        "  gamma_0 = p0/norm\n",
        "  gamma_1 = p1/norm\n",
        "  pi[0] = np.mean(gamma_0)\n",
        "  pi[1] = np.mean(gamma_1)\n",
        "  m_x = np.sum(gamma_0[:,None] * obs, axis=0)/np.sum(gamma_0)\n",
        "  m_y = np.sum(gamma_1[:,None] * obs, axis=0)/np.sum(gamma_1)\n",
        "  diff1 = obs - m_x\n",
        "  diff2 = obs - m_y\n",
        "  S_x = (gamma_0[:,None] * diff1).T @ diff1/np.sum(gamma_0)\n",
        "  S_y = (gamma_1[:,None] * diff2).T @ diff2/np.sum(gamma_1)\n",
        "  if iter % 20 == 0:\n",
        "    print(iter, pi, obs.shape, m_x.shape, m_y.shape, S_x.shape, S_y.shape)\n",
        "\n"
      ],
      "metadata": {
        "colab": {
          "base_uri": "https://localhost:8080/"
        },
        "id": "3v7AioJ57mrz",
        "outputId": "6ef61dbc-5ae2-40d6-ebee-debfecb04241"
      },
      "execution_count": 43,
      "outputs": [
        {
          "output_type": "stream",
          "name": "stdout",
          "text": [
            "0 [0.16999659 0.83000341] (180, 2) (2,) (2,) (2, 2) (2, 2)\n",
            "20 [0.17520821 0.82479179] (180, 2) (2,) (2,) (2, 2) (2, 2)\n",
            "40 [0.21048539 0.78951461] (180, 2) (2,) (2,) (2, 2) (2, 2)\n",
            "60 [0.24321436 0.75678564] (180, 2) (2,) (2,) (2, 2) (2, 2)\n",
            "80 [0.26728109 0.73271891] (180, 2) (2,) (2,) (2, 2) (2, 2)\n",
            "100 [0.28492647 0.71507353] (180, 2) (2,) (2,) (2, 2) (2, 2)\n",
            "120 [0.29814403 0.70185597] (180, 2) (2,) (2,) (2, 2) (2, 2)\n",
            "140 [0.30825113 0.69174887] (180, 2) (2,) (2,) (2, 2) (2, 2)\n",
            "160 [0.31611113 0.68388887] (180, 2) (2,) (2,) (2, 2) (2, 2)\n",
            "180 [0.32230524 0.67769476] (180, 2) (2,) (2,) (2, 2) (2, 2)\n",
            "200 [0.32723733 0.67276267] (180, 2) (2,) (2,) (2, 2) (2, 2)\n",
            "220 [0.33119647 0.66880353] (180, 2) (2,) (2,) (2, 2) (2, 2)\n",
            "240 [0.3343949 0.6656051] (180, 2) (2,) (2,) (2, 2) (2, 2)\n",
            "260 [0.33699182 0.66300818] (180, 2) (2,) (2,) (2, 2) (2, 2)\n",
            "280 [0.33910886 0.66089114] (180, 2) (2,) (2,) (2, 2) (2, 2)\n",
            "300 [0.34084025 0.65915975] (180, 2) (2,) (2,) (2, 2) (2, 2)\n",
            "320 [0.34225992 0.65774008] (180, 2) (2,) (2,) (2, 2) (2, 2)\n",
            "340 [0.34342644 0.65657356] (180, 2) (2,) (2,) (2, 2) (2, 2)\n",
            "360 [0.34438659 0.65561341] (180, 2) (2,) (2,) (2, 2) (2, 2)\n",
            "380 [0.34517797 0.65482203] (180, 2) (2,) (2,) (2, 2) (2, 2)\n",
            "400 [0.345831 0.654169] (180, 2) (2,) (2,) (2, 2) (2, 2)\n",
            "420 [0.34637037 0.65362963] (180, 2) (2,) (2,) (2, 2) (2, 2)\n",
            "440 [0.34681619 0.65318381] (180, 2) (2,) (2,) (2, 2) (2, 2)\n",
            "460 [0.34718493 0.65281507] (180, 2) (2,) (2,) (2, 2) (2, 2)\n",
            "480 [0.34749007 0.65250993] (180, 2) (2,) (2,) (2, 2) (2, 2)\n"
          ]
        }
      ]
    },
    {
      "cell_type": "code",
      "source": [
        "print(m_x, m_y)"
      ],
      "metadata": {
        "colab": {
          "base_uri": "https://localhost:8080/"
        },
        "id": "XfBMYQAK8wQF",
        "outputId": "23496302-dc7b-4852-a819-f4eb0a3a9815"
      },
      "execution_count": 44,
      "outputs": [
        {
          "output_type": "stream",
          "name": "stdout",
          "text": [
            "[-0.32777133 -0.15986849] [-0.46075393  1.24709432]\n"
          ]
        }
      ]
    },
    {
      "cell_type": "code",
      "source": [
        "print(mu_x, mu_y)"
      ],
      "metadata": {
        "colab": {
          "base_uri": "https://localhost:8080/"
        },
        "id": "u2JGwRSe9hsQ",
        "outputId": "d60626e4-3d4e-4b82-d38d-3475990da11b"
      },
      "execution_count": 45,
      "outputs": [
        {
          "output_type": "stream",
          "name": "stdout",
          "text": [
            "[-0.8  1.1] [0.1 0.3]\n"
          ]
        }
      ]
    },
    {
      "cell_type": "code",
      "source": [
        "print(Sigma_x)\n",
        "print(Sigma_y)"
      ],
      "metadata": {
        "colab": {
          "base_uri": "https://localhost:8080/"
        },
        "id": "qgLMX1vn90PV",
        "outputId": "7e07f139-dc7d-475e-ff96-3c2c43bb9f8e"
      },
      "execution_count": 46,
      "outputs": [
        {
          "output_type": "stream",
          "name": "stdout",
          "text": [
            "[[1.  0.5]\n",
            " [0.5 1. ]]\n",
            "[[1.  0.5]\n",
            " [0.5 1. ]]\n"
          ]
        }
      ]
    },
    {
      "cell_type": "code",
      "source": [
        "print(S_x)\n",
        "print(S_y)"
      ],
      "metadata": {
        "colab": {
          "base_uri": "https://localhost:8080/"
        },
        "id": "tgNm4ZD7_Ae-",
        "outputId": "ddc7d0b3-d3c8-4c10-b31c-b3bf79197122"
      },
      "execution_count": 47,
      "outputs": [
        {
          "output_type": "stream",
          "name": "stdout",
          "text": [
            "[[1.47431108 0.61547333]\n",
            " [0.61547333 0.89993116]]\n",
            "[[0.86053767 0.25135275]\n",
            " [0.25135275 0.72101822]]\n"
          ]
        }
      ]
    },
    {
      "cell_type": "code",
      "source": [
        "dat[\"z\"] = (gamma_0 < 0.5).astype(int)\n",
        "sns.relplot(data=dat, x=\"x\", y=\"y\", hue=\"z\", kind=\"scatter\")\n",
        "plt.show()"
      ],
      "metadata": {
        "colab": {
          "base_uri": "https://localhost:8080/",
          "height": 506
        },
        "id": "x0oRo3xt_moV",
        "outputId": "f90fd067-3b70-4ea2-98e3-46e19b74834f"
      },
      "execution_count": 48,
      "outputs": [
        {
          "output_type": "display_data",
          "data": {
            "text/plain": [
              "<Figure size 558.875x500 with 1 Axes>"
            ],
            "image/png": "[encoded data removed]"
          },
          "metadata": {}
        }
      ]
    },
    {
      "cell_type": "code",
      "source": [],
      "metadata": {
        "id": "V44hP7aa_0f5"
      },
      "execution_count": null,
      "outputs": []
    }
  ]
}