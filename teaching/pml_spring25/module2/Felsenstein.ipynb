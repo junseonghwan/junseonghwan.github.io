{
 "cells": [
  {
   "cell_type": "code",
   "execution_count": 6,
   "metadata": {
    "id": "rQ9eGP78789g"
   },
   "outputs": [],
   "source": [
    "import numpy as np\n",
    "import scipy.linalg as la\n",
    "import matplotlib.pyplot as plt"
   ]
  },
  {
   "cell_type": "markdown",
   "metadata": {
    "id": "lB0qqs5p79_l"
   },
   "source": [
    "## Felsenstein pruning algorithm.\n",
    "\n",
    "We assume a continuous time Markov chain (CTMC) operating along the branches of the tree. The CTMC is defined by a rate matrix $Q$.\n",
    "\n",
    "In this example, we will use [Jukes-Cantor model](https://en.wikipedia.org/wiki/Models_of_DNA_evolution#JC69_model_(Jukes_and_Cantor_1969)) on DNA nucleotides $\\mathcal{B} = \\{A, C, G, T\\}$.\n",
    "\n",
    "This means that the rate matrix is defined by the instantaneous rate of mutation, $Q_{ij} = \\mu/4$ for some $\\mu > 0$ and $Q_{ii} = -\\sum_{j \\not= i} q_{ij}$, which in this case yields $Q_{ii} = -3 \\mu /4$.\n",
    "\n",
    "We have a length associated with each branch of the tree. We will focus on computing a likelihood table for node $u$ with children $v, w$ (a cherry). The branch lengths for edge $(u,v)$ and $(u,w)$ are denoted $t_{uv}, t_{uw}$.\n",
    "\n",
    "To obtain the transition matrix along an edge with branch length $t$, we perform matrix exponentiation:\n",
    "\n",
    "$$P(t) = \\exp(Qt).$$\n",
    "\n",
    "The stationary distribution or equilibrium of the CTMC is denoted by $\\pi$. This is usually given by $\\pi Q = 0$ such that $\\sum_j \\pi_j = 1$ for $j \\in \\mathcal{B}$. \n",
    "\n",
    "$\\pi$ is a vector with 4 components corresponding to each DNA nucleotide base: $\\pi = (\\pi_A, \\pi_C, \\pi_G, \\pi_T)$. In the case of Jukes-Cantor model, $\\pi_A = \\pi_C = \\pi_G = \\pi_T = 0.25$.\n",
    "\n",
    "It is also helpful to think of the stationary distribution as $P(\\infty) = \\lim_{t \\to \\infty} \\exp(Qt)$. Note that $P(\\infty)$ is matrix where each row is given by $\\pi$.\n",
    "\n",
    "In evolutionary biology, it is commonly assumed (and reasonable) that a very long time has passed and that we have reached stationarity."
   ]
  },
  {
   "cell_type": "code",
   "execution_count": 7,
   "metadata": {
    "colab": {
     "base_uri": "https://localhost:8080/"
    },
    "id": "JQGpHW1V8Nec",
    "outputId": "a9958c1f-1c6c-49de-b4c0-89cdcc07c9c0"
   },
   "outputs": [
    {
     "name": "stdout",
     "output_type": "stream",
     "text": [
      "[1.11022302e-16 1.11022302e-16 5.55111512e-17 0.00000000e+00]\n",
      "[[-0.9  0.3  0.3  0.3]\n",
      " [ 0.3 -0.9  0.3  0.3]\n",
      " [ 0.3  0.3 -0.9  0.3]\n",
      " [ 0.3  0.3  0.3 -0.9]]\n",
      "[0.25 0.25 0.25 0.25]\n"
     ]
    }
   ],
   "source": [
    "mu = 1.2\n",
    "Q = (mu/4) * np.ones((4,4))\n",
    "np.fill_diagonal(Q, -3*mu/4)\n",
    "print(Q.sum(1))\n",
    "print(Q)\n",
    "pi = np.ones(4)/4\n",
    "print(pi)"
   ]
  },
  {
   "cell_type": "code",
   "execution_count": 8,
   "metadata": {
    "id": "oRR8Ywvn_You"
   },
   "outputs": [],
   "source": [
    "t_uv = 1.2\n",
    "t_uw = 0.8"
   ]
  },
  {
   "cell_type": "code",
   "execution_count": 9,
   "metadata": {
    "colab": {
     "base_uri": "https://localhost:8080/"
    },
    "id": "OIjmTgVN_jaS",
    "outputId": "448fd2d4-59f1-4f29-9b08-589c11656996"
   },
   "outputs": [
    {
     "name": "stdout",
     "output_type": "stream",
     "text": [
      "[[0.42769582 0.19076806 0.19076806 0.19076806]\n",
      " [0.19076806 0.42769582 0.19076806 0.19076806]\n",
      " [0.19076806 0.19076806 0.42769582 0.19076806]\n",
      " [0.19076806 0.19076806 0.19076806 0.42769582]]\n",
      "[[0.53716966 0.15427678 0.15427678 0.15427678]\n",
      " [0.15427678 0.53716966 0.15427678 0.15427678]\n",
      " [0.15427678 0.15427678 0.53716966 0.15427678]\n",
      " [0.15427678 0.15427678 0.15427678 0.53716966]]\n"
     ]
    }
   ],
   "source": [
    "P_uv = la.expm(Q*t_uv)\n",
    "P_uw = la.expm(Q*t_uw)\n",
    "print(P_uv)\n",
    "print(P_uw)"
   ]
  },
  {
   "cell_type": "code",
   "execution_count": 10,
   "metadata": {
    "colab": {
     "base_uri": "https://localhost:8080/"
    },
    "id": "G5fkVuPjDPEX",
    "outputId": "aa798811-7a1a-41bc-d8b6-0e55a4ccd942"
   },
   "outputs": [
    {
     "name": "stdout",
     "output_type": "stream",
     "text": [
      "[1. 1. 1. 1.]\n",
      "[1. 1. 1. 1.]\n"
     ]
    }
   ],
   "source": [
    "print(P_uv.sum(1))\n",
    "print(P_uw.sum(1))"
   ]
  },
  {
   "cell_type": "markdown",
   "metadata": {
    "id": "huA6z_JnDel5"
   },
   "source": [
    "## Base case (initialization)\n",
    "\n",
    "To initialize Felsenstein pruning algorithm, we fill out the likelihood table for each of the observed nodes.\n",
    "\n",
    "Let $Y_u, Y_v, Y_w$ denote the sequences at nodes $u,v,w$. \n",
    "\n",
    "Here, $Y_u$ is unobserved while $Y_u, Y_w$ are observed. So, the likelihood table for $v,w$ can be filled out by indicating the nucleotide that was observed for each site (loci). \n"
   ]
  },
  {
   "cell_type": "code",
   "execution_count": 11,
   "metadata": {
    "colab": {
     "base_uri": "https://localhost:8080/"
    },
    "id": "3BGqydtHDPmz",
    "outputId": "31b666d3-7e32-4b56-8500-63ee3dd022d6"
   },
   "outputs": [
    {
     "data": {
      "text/plain": [
       "9"
      ]
     },
     "execution_count": 11,
     "metadata": {},
     "output_type": "execute_result"
    }
   ],
   "source": [
    "y_v = \"AAACCGTCA\"\n",
    "y_w = \"AACCCGTCT\"\n",
    "L = len(y_v)\n",
    "L"
   ]
  },
  {
   "cell_type": "code",
   "execution_count": 12,
   "metadata": {
    "id": "1SdeHithG77o"
   },
   "outputs": [],
   "source": [
    "D_v = np.zeros((4, L))\n",
    "D_w = np.zeros((4, L))\n",
    "D_u = np.zeros((4, L))"
   ]
  },
  {
   "cell_type": "code",
   "execution_count": 13,
   "metadata": {
    "id": "_yEoLCj9HGUF"
   },
   "outputs": [],
   "source": [
    "def ch_to_idx(ch):\n",
    "    if ch == \"A\":\n",
    "        return 0\n",
    "    elif ch == \"C\":\n",
    "        return 1\n",
    "    elif ch == \"G\":\n",
    "        return 2\n",
    "    elif ch == \"T\":\n",
    "        return 3"
   ]
  },
  {
   "cell_type": "code",
   "execution_count": 14,
   "metadata": {
    "colab": {
     "base_uri": "https://localhost:8080/",
     "height": 36
    },
    "id": "W4-VrREbHZQp",
    "outputId": "5dbb3de4-c529-4d4c-ffff-98ef1efe6a94"
   },
   "outputs": [
    {
     "data": {
      "text/plain": [
       "'A'"
      ]
     },
     "execution_count": 14,
     "metadata": {},
     "output_type": "execute_result"
    }
   ],
   "source": [
    "y_v[1]"
   ]
  },
  {
   "cell_type": "code",
   "execution_count": 15,
   "metadata": {
    "id": "A-Ew6YdVHOlj"
   },
   "outputs": [],
   "source": [
    "for l in range(L):\n",
    "  i = ch_to_idx(y_v[l])\n",
    "  D_v[i,l] = 1\n",
    "  i = ch_to_idx(y_w[l])\n",
    "  D_w[i,l] = 1"
   ]
  },
  {
   "cell_type": "code",
   "execution_count": 16,
   "metadata": {
    "colab": {
     "base_uri": "https://localhost:8080/"
    },
    "id": "ecDJJ3-IHinm",
    "outputId": "2974482d-014f-42dc-d5ef-f2ca0b2c405b"
   },
   "outputs": [
    {
     "name": "stdout",
     "output_type": "stream",
     "text": [
      "AAACCGTCA\n",
      "[[1. 1. 1. 0. 0. 0. 0. 0. 1.]\n",
      " [0. 0. 0. 1. 1. 0. 0. 1. 0.]\n",
      " [0. 0. 0. 0. 0. 1. 0. 0. 0.]\n",
      " [0. 0. 0. 0. 0. 0. 1. 0. 0.]]\n"
     ]
    }
   ],
   "source": [
    "print(y_v)\n",
    "print(D_v)"
   ]
  },
  {
   "cell_type": "code",
   "execution_count": 17,
   "metadata": {
    "colab": {
     "base_uri": "https://localhost:8080/"
    },
    "id": "sD8n9pRqHkuP",
    "outputId": "c43a254f-8056-4409-c19b-927ffd2201a5"
   },
   "outputs": [
    {
     "name": "stdout",
     "output_type": "stream",
     "text": [
      "AACCCGTCT\n",
      "[[1. 1. 0. 0. 0. 0. 0. 0. 0.]\n",
      " [0. 0. 1. 1. 1. 0. 0. 1. 0.]\n",
      " [0. 0. 0. 0. 0. 1. 0. 0. 0.]\n",
      " [0. 0. 0. 0. 0. 0. 1. 0. 1.]]\n"
     ]
    }
   ],
   "source": [
    "print(y_w)\n",
    "print(D_w)\n"
   ]
  },
  {
   "cell_type": "markdown",
   "metadata": {},
   "source": [
    "## Pruning recursion\n",
    "\n",
    "The likelihood table for $u$ is to be filled in using the likelihood tables for $v, w$.\n",
    "\n",
    "Let $Y_{\\lfloor u \\rfloor}$ denote the set of observed sequences below node $u$. In the case with a cherry, it's just $Y_{\\lfloor u \\rfloor} = (Y_v, Y_w)$.\n",
    "\n",
    "Note that the sequence at $Y_u$ is unobserved and we wish to marginalize over its values to compute the marginal likelihood of the observation $p(Y_{\\lfloor u \\rfloor})$.\n",
    "\n",
    "The recursion for $u$ at site $l$ is given by,\n",
    "\n",
    "$$D_u^l[i] = P(Y_{\\lfloor u \\rfloor}^l | Y_u^l = i),$$\n",
    "\n",
    "for $i \\in \\mathcal{B}$. We can derive this in terms of the likelihood tables for $v,w$,\n",
    "\n",
    "\\begin{align}\n",
    "    P(Y_{\\lfloor u \\rfloor}^l | Y_u^l = i) &= \\left(\\sum_j P(Y_v^l = j | Y_u^l = i) P(Y_{\\lfloor v \\rfloor}^l | Y_v^l = i)\\right) \\times \\\\\n",
    "    & \\left(\\sum_j P(Y_w^l = j | Y_u^l = i) P(Y_{\\lfloor w \\rfloor}^l | Y_w^l = i)\\right).\n",
    "\\end{align}\n",
    "\n",
    "In matrix form:\n",
    "\n",
    "$$D_u = (P(b_{uv}) D_v) \\odot (P(b_{uw}) D_w).$$\n",
    "\n",
    "To obtain the marginal likelihood, we take a dot product with the stationary distribution:\n",
    "\n",
    "$$P(Y_{\\lfloor u \\rfloor}^l) = P(Y_u^l = j) D_u[j,l] = \\pi^T D_u[j,l].$$\n",
    "\n",
    "Finally, we assume site independence, that each site evolves independently to combine the marginal likelihood over sites:\n",
    "\n",
    "$$P(Y_{\\lfloor u \\rfloor}) = \\prod_l P(Y_{\\lfloor u \\rfloor}^l).$$"
   ]
  },
  {
   "cell_type": "code",
   "execution_count": 18,
   "metadata": {
    "id": "ffI1CGooHoRZ"
   },
   "outputs": [],
   "source": [
    "D_u = (P_uv @ D_v) * (P_uw @ D_w)"
   ]
  },
  {
   "cell_type": "code",
   "execution_count": 23,
   "metadata": {
    "colab": {
     "base_uri": "https://localhost:8080/"
    },
    "id": "iOkXlNn7HsPX",
    "outputId": "34bb2249-0370-4485-9473-6e0bfec50cac"
   },
   "outputs": [
    {
     "name": "stdout",
     "output_type": "stream",
     "text": [
      "-23.458518484870616\n"
     ]
    }
   ],
   "source": [
    "log_lik = np.sum(np.log(pi.T @ D_u))\n",
    "print(log_lik)"
   ]
  },
  {
   "cell_type": "code",
   "execution_count": null,
   "metadata": {
    "id": "xs9GU6QxHxRz"
   },
   "outputs": [],
   "source": []
  },
  {
   "cell_type": "code",
   "execution_count": null,
   "metadata": {},
   "outputs": [],
   "source": []
  }
 ],
 "metadata": {
  "colab": {
   "provenance": []
  },
  "kernelspec": {
   "display_name": "Python 3 (ipykernel)",
   "language": "python",
   "name": "python3"
  },
  "language_info": {
   "codemirror_mode": {
    "name": "ipython",
    "version": 3
   },
   "file_extension": ".py",
   "mimetype": "text/x-python",
   "name": "python",
   "nbconvert_exporter": "python",
   "pygments_lexer": "ipython3",
   "version": "3.11.11"
  }
 },
 "nbformat": 4,
 "nbformat_minor": 4
}
