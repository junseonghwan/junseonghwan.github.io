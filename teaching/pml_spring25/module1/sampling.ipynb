{
 "cells": [
  {
   "cell_type": "markdown",
   "metadata": {
    "id": "omdmTOJbYh9C"
   },
   "source": [
    "Goals:\n",
    "\n",
    "- Use `numpy` to generate random samples and `scipy` to evaluate probability density functions.\n",
    "- Monte Carlo integration.\n",
    "- Importance sampling.\n",
    "\n"
   ]
  },
  {
   "cell_type": "code",
   "execution_count": null,
   "metadata": {
    "id": "to04rdpRXr_q"
   },
   "outputs": [],
   "source": []
  },
  {
   "cell_type": "code",
   "execution_count": 1,
   "metadata": {
    "id": "0f7b6udcXtdS"
   },
   "outputs": [],
   "source": [
    "import numpy as np\n",
    "import scipy"
   ]
  },
  {
   "cell_type": "code",
   "execution_count": 2,
   "metadata": {
    "colab": {
     "base_uri": "https://localhost:8080/"
    },
    "executionInfo": {
     "elapsed": 2,
     "status": "ok",
     "timestamp": 1736871254046,
     "user": {
      "displayName": "Seong-Hwan Jun",
      "userId": "10722176639861134617"
     },
     "user_tz": 300
    },
    "id": "St16INMHYJXA",
    "outputId": "6a6ad979-91d3-477a-d3d7-0b3fed80eb68"
   },
   "outputs": [
    {
     "name": "stdout",
     "output_type": "stream",
     "text": [
      "[0 0 0 1 0 0 0 0 0 0 1 0 0 0 0 0 0 0 0 0 0 1 0 0 0 0 1 0 0 0 1 0 1 0 0 1 0\n",
      " 0 0 1 0 0 0 0 0 0 0 0 0 0 0 0 0 0 0 0 0 1 1 0 0 0 0 0 0 0 0 0 0 0 0 0 0 0\n",
      " 0 0 0 0 0 0 1 0 0 0 0 1 0 0 0 0 0 0 0 0 0 0 0 0 0 0]\n",
      "12\n"
     ]
    }
   ],
   "source": [
    "np.random.seed(101)\n",
    "N = 100\n",
    "pi = np.random.beta(1, 1, size=1)\n",
    "y = np.random.binomial(n = 1, p = pi, size = N)\n",
    "\n",
    "#print(pi)\n",
    "print(y)\n",
    "sy = y.sum()\n",
    "print(sy)"
   ]
  },
  {
   "cell_type": "markdown",
   "metadata": {
    "id": "5Fdpu4YAWSKo"
   },
   "source": [
    "We will sample from the prior $\\pi_k \\sim Beta(1, 1)$.\n",
    "\n",
    "$$p(y) = \\int p(y | \\pi) p(\\pi) d\\pi = \\int \\prod_n p(y_n | \\pi) p(\\pi) d\\pi$$.\n",
    "\n",
    "Note that $\\prod_n p(y_n | \\pi) = \\prod_n \\pi^{y_n} (1 - \\pi)^{1-y_n} = \\pi^{s_y} (1 - \\pi)^{N - s_y}$, where $s_y = \\sum_n y_n$.\n",
    "\n",
    "$$\\int \\prod_n p(y_n | \\pi) p(\\pi) d\\pi = \\int \\pi^{s_y} (1 - \\pi)^{N-s_y} p(\\pi) d\\pi \\approx \\frac{1}{K} \\sum_k \\pi_k^{s_y} (1 - \\pi_k)^{N-s_y}$$"
   ]
  },
  {
   "cell_type": "code",
   "execution_count": 5,
   "metadata": {
    "id": "nmbK6rJPf04_"
   },
   "outputs": [],
   "source": [
    "def log_pmf(sy, N, pi):\n",
    "  return sy * np.log(pi) + (N - sy) * np.log(1 - pi)\n",
    "\n",
    "def pmf(sy, N, pi):\n",
    "  return pi**sy * (1 - pi)**(N - sy)\n"
   ]
  },
  {
   "cell_type": "code",
   "execution_count": 20,
   "metadata": {
    "id": "ZSfzVK5df2-b"
   },
   "outputs": [],
   "source": [
    "sample_size = 100000\n",
    "pi_samples = np.random.beta(1, 1, size=sample_size)\n",
    "\n",
    "a = []\n",
    "for pi_sample in pi_samples:\n",
    "    a.append(pmf(sy, N, pi_sample))\n",
    "pmf_values = np.array(a)"
   ]
  },
  {
   "cell_type": "code",
   "execution_count": 21,
   "metadata": {
    "colab": {
     "base_uri": "https://localhost:8080/"
    },
    "executionInfo": {
     "elapsed": 4,
     "status": "ok",
     "timestamp": 1736871254965,
     "user": {
      "displayName": "Seong-Hwan Jun",
      "userId": "10722176639861134617"
     },
     "user_tz": 300
    },
    "id": "ZCXdm1Fdf-br",
    "outputId": "7e664cd6-e1f6-48eb-9c8d-147ec7c2a3be"
   },
   "outputs": [
    {
     "name": "stdout",
     "output_type": "stream",
     "text": [
      "9.36929646578975e-18\n"
     ]
    }
   ],
   "source": [
    "pmf_values = np.array([pmf(sy, N, pi_sample) for pi_sample in pi_samples])\n",
    "marginal_mc_estimate1 = pmf_values.mean()\n",
    "print(marginal_mc_estimate1)\n",
    "\n"
   ]
  },
  {
   "cell_type": "code",
   "execution_count": 22,
   "metadata": {},
   "outputs": [],
   "source": [
    "# The truth is B(a, b).\n",
    "a0 = 1\n",
    "a = sy + a0\n",
    "b0 = 1\n",
    "b = N - sy + b0"
   ]
  },
  {
   "cell_type": "code",
   "execution_count": 23,
   "metadata": {},
   "outputs": [
    {
     "data": {
      "text/plain": [
       "9.425734650479863e-18"
      ]
     },
     "execution_count": 23,
     "metadata": {},
     "output_type": "execute_result"
    }
   ],
   "source": [
    "scipy.special.beta(a, b)"
   ]
  },
  {
   "cell_type": "markdown",
   "metadata": {
    "id": "kOVm-Ba8G5s2"
   },
   "source": [
    "What is the true marginal likelihood?\n",
    "\n",
    "Bernoulli-Beta conjugacy implies that the posterior is also in the same family as the prior.\n",
    "\n",
    "$$p(\\pi | y) = \\frac{p(y | \\pi) p(\\pi)}{p(y)} \\Rightarrow p(y) = \\frac{p(y|\\pi) p(\\pi)}{p(\\pi|y)}$$\n",
    "\n",
    "This is true for any $\\pi$, so we can evaluate the marginal likelihood.\n",
    "\n"
   ]
  },
  {
   "cell_type": "code",
   "execution_count": null,
   "metadata": {
    "colab": {
     "base_uri": "https://localhost:8080/"
    },
    "executionInfo": {
     "elapsed": 2190,
     "status": "ok",
     "timestamp": 1736871257299,
     "user": {
      "displayName": "Seong-Hwan Jun",
      "userId": "10722176639861134617"
     },
     "user_tz": 300
    },
    "id": "xxDZnvZgoTsZ",
    "outputId": "a72a7224-889a-48b7-b79a-5904285b3f15"
   },
   "outputs": [
    {
     "name": "stdout",
     "output_type": "stream",
     "text": [
      "9.425734650479846e-18\n",
      "-39.20308799659594\n"
     ]
    }
   ],
   "source": [
    "some_pi = 0.5\n",
    "likelihood = pmf(sy, N, some_pi)\n",
    "prior = scipy.stats.beta.pdf(some_pi, 1, 1)\n",
    "posterior = scipy.stats.beta.pdf(some_pi, sy + 1, N - sy + 1)\n",
    "true_marginal_likelihood = likelihood * prior / posterior\n",
    "print(true_marginal_likelihood)\n",
    "\n",
    "log_likelihood = log_pmf(sy, N, some_pi)\n",
    "log_prior = scipy.stats.beta.logpdf(some_pi, 1, 1)\n",
    "log_posterior = scipy.stats.beta.logpdf(some_pi, sy + 1, N - sy + 1)\n",
    "\n",
    "true_log_marginal_likelihood = log_likelihood + log_prior - log_posterior\n",
    "print(true_log_marginal_likelihood)"
   ]
  },
  {
   "cell_type": "code",
   "execution_count": 24,
   "metadata": {},
   "outputs": [
    {
     "name": "stdout",
     "output_type": "stream",
     "text": [
      "9.369296465785894e-18\n"
     ]
    }
   ],
   "source": [
    "\n",
    "log_pmf_values = np.array([log_pmf(sy, N, pi_sample) for pi_sample in pi_samples])\n",
    "log_sum_vals = np.logaddexp.reduce(log_pmf_values)\n",
    "marginal_mc_estimate2 = np.exp(log_sum_vals) / sample_size\n",
    "print(marginal_mc_estimate2)\n"
   ]
  },
  {
   "cell_type": "code",
   "execution_count": 25,
   "metadata": {},
   "outputs": [
    {
     "name": "stdout",
     "output_type": "stream",
     "text": [
      "-39.20909366415555\n"
     ]
    }
   ],
   "source": [
    "\n",
    "log_marginal_likelihood_estimate = log_sum_vals - np.log(sample_size)\n",
    "print(log_marginal_likelihood_estimate)"
   ]
  },
  {
   "cell_type": "markdown",
   "metadata": {
    "id": "V1e5TENKRwoY"
   },
   "source": [
    "## Importance sampling\n",
    "\n",
    "Estimating the tail probability.\n",
    "\n",
    "Let $X \\sim Normal(0, 1)$. Estimate $P(X > x_0)$ for some extreme $x_0$."
   ]
  },
  {
   "cell_type": "code",
   "execution_count": 26,
   "metadata": {
    "colab": {
     "base_uri": "https://localhost:8080/"
    },
    "executionInfo": {
     "elapsed": 3,
     "status": "ok",
     "timestamp": 1736871257300,
     "user": {
      "displayName": "Seong-Hwan Jun",
      "userId": "10722176639861134617"
     },
     "user_tz": 300
    },
    "id": "sDkZSluZE0PM",
    "outputId": "0caabea9-6059-44b5-d877-c9057418a276"
   },
   "outputs": [
    {
     "name": "stdout",
     "output_type": "stream",
     "text": [
      "2.866515719235352e-07\n"
     ]
    }
   ],
   "source": [
    "# Naive estimate:\n",
    "x0 = 5\n",
    "estimate1 = 1 - scipy.stats.norm.cdf(x0, 0, 1)\n",
    "print(estimate1)\n"
   ]
  },
  {
   "cell_type": "markdown",
   "metadata": {
    "id": "0R_n2ccPZXJ7"
   },
   "source": [
    "What we want is $P(X > x_0) = \\mathbb{E}[1[X > x_0]] = \\int 1[x > x_0] \\phi(x) dx$ where $\\phi(x)$ is normal pdf.\n",
    "\n",
    "Naive Monte Carlo integration will not work well since it will barely draw any sample where $x > x_0$ for extreme $x_0$."
   ]
  },
  {
   "cell_type": "code",
   "execution_count": 27,
   "metadata": {
    "colab": {
     "base_uri": "https://localhost:8080/"
    },
    "executionInfo": {
     "elapsed": 631,
     "status": "ok",
     "timestamp": 1736871257929,
     "user": {
      "displayName": "Seong-Hwan Jun",
      "userId": "10722176639861134617"
     },
     "user_tz": 300
    },
    "id": "-HtwjexPMvQp",
    "outputId": "d90be5b2-edad-4f56-9b73-6c1fa2a2443e"
   },
   "outputs": [
    {
     "name": "stdout",
     "output_type": "stream",
     "text": [
      "4e-07\n"
     ]
    }
   ],
   "source": [
    "x = np.random.normal(size=10000000)\n",
    "estimate2 = np.mean(x > x0)\n",
    "print(estimate2)"
   ]
  },
  {
   "cell_type": "markdown",
   "metadata": {
    "id": "ZBNLG1auZ9Pz"
   },
   "source": [
    "Let's formulate importance sampling estimator.\n",
    "\n",
    "$\\int 1[x > x_0] \\phi(x) = \\int 1[x > x_0] \\frac{\\phi(x)}{f(x)} f(x) dx$ for some importance distribution $f$. We define $w(x) = \\phi(x)/f(x)$.\n",
    "\n",
    "We will choose $f$ so that it has mass concentrated around $x_0$.\n",
    "\n",
    "The IS estimator is given by $P(X > x_0) \\approx \\frac{1}{K} \\sum_k w(x_k) 1[x_k > x_0]$."
   ]
  },
  {
   "cell_type": "code",
   "execution_count": 28,
   "metadata": {
    "colab": {
     "base_uri": "https://localhost:8080/"
    },
    "executionInfo": {
     "elapsed": 84,
     "status": "ok",
     "timestamp": 1736871730209,
     "user": {
      "displayName": "Seong-Hwan Jun",
      "userId": "10722176639861134617"
     },
     "user_tz": 300
    },
    "id": "sfkLjIbqZsUO",
    "outputId": "05dee227-eab7-4ac9-875c-2aed1f075746"
   },
   "outputs": [
    {
     "name": "stdout",
     "output_type": "stream",
     "text": [
      "2.790515826943391e-07\n"
     ]
    }
   ],
   "source": [
    "x = np.random.normal(size=10000, loc=x0, scale=1)\n",
    "weights = scipy.stats.norm.pdf(x, 0, 1) / scipy.stats.norm.pdf(x, x0, 1)\n",
    "estimate3 = np.mean(weights * (x > x0))\n",
    "print(estimate3)"
   ]
  },
  {
   "cell_type": "markdown",
   "metadata": {
    "id": "bmCH0c5GlwG5"
   },
   "source": [
    "What happens if we choose a different importance distribution?"
   ]
  },
  {
   "cell_type": "code",
   "execution_count": 29,
   "metadata": {
    "colab": {
     "base_uri": "https://localhost:8080/"
    },
    "executionInfo": {
     "elapsed": 115,
     "status": "ok",
     "timestamp": 1736871302889,
     "user": {
      "displayName": "Seong-Hwan Jun",
      "userId": "10722176639861134617"
     },
     "user_tz": 300
    },
    "id": "2UQBkagHacLE",
    "outputId": "1bf91d67-6f33-4335-e0e3-fac2a6b46f64"
   },
   "outputs": [
    {
     "name": "stdout",
     "output_type": "stream",
     "text": [
      "1.4950627747838689e-07\n"
     ]
    }
   ],
   "source": [
    "x = np.random.normal(size=100000, loc=x0, scale=2)\n",
    "weights = scipy.stats.norm.pdf(x, 0, 1) / scipy.stats.norm.pdf(x, x0, 1)\n",
    "print(np.mean(weights * (x > x0)))\n"
   ]
  },
  {
   "cell_type": "code",
   "execution_count": null,
   "metadata": {
    "colab": {
     "base_uri": "https://localhost:8080/"
    },
    "executionInfo": {
     "elapsed": 113,
     "status": "ok",
     "timestamp": 1736871742279,
     "user": {
      "displayName": "Seong-Hwan Jun",
      "userId": "10722176639861134617"
     },
     "user_tz": 300
    },
    "id": "2s4KQRlcdgu0",
    "outputId": "5e8c950a-4f18-423d-c6ab-12fef53bbe83"
   },
   "outputs": [
    {
     "name": "stdout",
     "output_type": "stream",
     "text": [
      "0.0013270959461802764\n"
     ]
    }
   ],
   "source": [
    "x = x0 + np.random.exponential(size=10000, scale=1)\n",
    "weights = scipy.stats.norm.pdf(x, 0, 1) / (scipy.stats.expon.pdf(x, scale=1) * np.exp(x0))\n",
    "print(np.mean(weights * (x > x0)))\n"
   ]
  },
  {
   "cell_type": "code",
   "execution_count": null,
   "metadata": {
    "id": "tcTB69XwnGxD"
   },
   "outputs": [],
   "source": []
  },
  {
   "cell_type": "code",
   "execution_count": null,
   "metadata": {
    "id": "vcOSzyfCnU8G"
   },
   "outputs": [],
   "source": []
  }
 ],
 "metadata": {
  "colab": {
   "authorship_tag": "ABX9TyNMk8LuGIRETWagaBPen8FQ",
   "provenance": []
  },
  "kernelspec": {
   "display_name": "Python 3 (ipykernel)",
   "language": "python",
   "name": "python3"
  },
  "language_info": {
   "codemirror_mode": {
    "name": "ipython",
    "version": 3
   },
   "file_extension": ".py",
   "mimetype": "text/x-python",
   "name": "python",
   "nbconvert_exporter": "python",
   "pygments_lexer": "ipython3",
   "version": "3.11.11"
  }
 },
 "nbformat": 4,
 "nbformat_minor": 4
}
