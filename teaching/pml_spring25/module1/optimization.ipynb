{
 "cells": [
  {
   "cell_type": "markdown",
   "metadata": {
    "id": "ASOn9vqk5uOP"
   },
   "source": [
    "Goals:\n",
    "\n",
    "- Use PyTorch to define a simple statistical model.\n",
    "- Use autograd functionality and stochastic gradient descent to optimize the model.\n"
   ]
  },
  {
   "cell_type": "code",
   "execution_count": 1,
   "metadata": {
    "executionInfo": {
     "elapsed": 5192,
     "status": "ok",
     "timestamp": 1737042015997,
     "user": {
      "displayName": "Seong-Hwan Jun",
      "userId": "10722176639861134617"
     },
     "user_tz": 300
    },
    "id": "RjgR54yn5-Na"
   },
   "outputs": [],
   "source": [
    "import torch\n",
    "from torch import optim\n",
    "import numpy as np\n",
    "import matplotlib.pyplot as plt"
   ]
  },
  {
   "cell_type": "code",
   "execution_count": 23,
   "metadata": {
    "colab": {
     "base_uri": "https://localhost:8080/"
    },
    "executionInfo": {
     "elapsed": 265,
     "status": "ok",
     "timestamp": 1737042113778,
     "user": {
      "displayName": "Seong-Hwan Jun",
      "userId": "10722176639861134617"
     },
     "user_tz": 300
    },
    "id": "8vMQXMcecwo4",
    "outputId": "e627c754-84f9-4e7d-dd53-80f2e03ee78a"
   },
   "outputs": [
    {
     "name": "stdout",
     "output_type": "stream",
     "text": [
      "[[ 1.          0.49671415]\n",
      " [ 1.         -0.1382643 ]\n",
      " [ 1.          0.64768854]\n",
      " [ 1.          1.52302986]\n",
      " [ 1.         -0.23415337]\n",
      " [ 1.         -0.23413696]\n",
      " [ 1.          1.57921282]\n",
      " [ 1.          0.76743473]\n",
      " [ 1.         -0.46947439]\n",
      " [ 1.          0.54256004]\n",
      " [ 1.         -0.46341769]\n",
      " [ 1.         -0.46572975]\n",
      " [ 1.          0.24196227]\n",
      " [ 1.         -1.91328024]\n",
      " [ 1.         -1.72491783]\n",
      " [ 1.         -0.56228753]\n",
      " [ 1.         -1.01283112]\n",
      " [ 1.          0.31424733]\n",
      " [ 1.         -0.90802408]\n",
      " [ 1.         -1.4123037 ]]\n",
      "(20, 2)\n",
      "[1.36700813 1.21191593 1.2105395  1.14396924 1.28831634 1.59365095\n",
      " 0.9889722  1.23404144 1.45130364 1.71360721 1.56757806 1.35925732\n",
      " 1.5755284  1.65345337 1.89686705 1.20066594 1.42868482 1.43407142\n",
      " 1.8183524  1.81878713]\n",
      "(20,)\n"
     ]
    }
   ],
   "source": [
    "np.random.seed(42)\n",
    "torch.manual_seed(142)\n",
    "N = 20\n",
    "x1 = np.ones(N)\n",
    "x2 = np.random.normal(size=N)\n",
    "X = np.column_stack((x1, x2))\n",
    "print(X)\n",
    "print(X.shape)\n",
    "true_beta = np.random.normal(size = 2)\n",
    "y = X @ true_beta + np.random.normal(size = N, loc = 0, scale = 0.2)\n",
    "print(y)\n",
    "print(y.shape)"
   ]
  },
  {
   "cell_type": "code",
   "execution_count": 24,
   "metadata": {
    "colab": {
     "base_uri": "https://localhost:8080/",
     "height": 448
    },
    "executionInfo": {
     "elapsed": 266,
     "status": "ok",
     "timestamp": 1737042115007,
     "user": {
      "displayName": "Seong-Hwan Jun",
      "userId": "10722176639861134617"
     },
     "user_tz": 300
    },
    "id": "0-eVuxyJRABS",
    "outputId": "d6419d16-42e8-4688-91da-4cb8e306714a"
   },
   "outputs": [
    {
     "data": {
      "text/plain": [
       "<matplotlib.collections.PathCollection at 0x128c81590>"
      ]
     },
     "execution_count": 24,
     "metadata": {},
     "output_type": "execute_result"
    },
    {
     "data": {
      "image/png": "[encoded data removed]",
      "text/plain": [
       "<Figure size 640x480 with 1 Axes>"
      ]
     },
     "metadata": {},
     "output_type": "display_data"
    }
   ],
   "source": [
    "plt.scatter(x2, y)"
   ]
  },
  {
   "cell_type": "code",
   "execution_count": 39,
   "metadata": {
    "executionInfo": {
     "elapsed": 361,
     "status": "ok",
     "timestamp": 1737042380953,
     "user": {
      "displayName": "Seong-Hwan Jun",
      "userId": "10722176639861134617"
     },
     "user_tz": 300
    },
    "id": "yRLGJnhQc5wl"
   },
   "outputs": [],
   "source": [
    "y_torch = torch.tensor(y)\n",
    "X_torch = torch.tensor(X)\n",
    "beta = torch.tensor(np.random.normal(size = 2), requires_grad = True)"
   ]
  },
  {
   "cell_type": "code",
   "execution_count": 40,
   "metadata": {
    "executionInfo": {
     "elapsed": 1,
     "status": "ok",
     "timestamp": 1737042381283,
     "user": {
      "displayName": "Seong-Hwan Jun",
      "userId": "10722176639861134617"
     },
     "user_tz": 300
    },
    "id": "2m0q-WC9SThh"
   },
   "outputs": [],
   "source": [
    "# Minimize mean squared error.\n",
    "def mse_loss(beta):\n",
    "  loss = torch.mean((y_torch - X_torch @ beta)**2)\n",
    "  return loss"
   ]
  },
  {
   "cell_type": "code",
   "execution_count": 41,
   "metadata": {
    "executionInfo": {
     "elapsed": 676,
     "status": "ok",
     "timestamp": 1737042382229,
     "user": {
      "displayName": "Seong-Hwan Jun",
      "userId": "10722176639861134617"
     },
     "user_tz": 300
    },
    "id": "qLlVpBSlTSu0",
    "scrolled": true
   },
   "outputs": [
    {
     "name": "stdout",
     "output_type": "stream",
     "text": [
      "tensor(2.8567, dtype=torch.float64, grad_fn=<MeanBackward0>)\n",
      "tensor(0.4931, dtype=torch.float64, grad_fn=<MeanBackward0>)\n",
      "tensor(0.0697, dtype=torch.float64, grad_fn=<MeanBackward0>)\n",
      "tensor(0.0319, dtype=torch.float64, grad_fn=<MeanBackward0>)\n",
      "tensor(0.0305, dtype=torch.float64, grad_fn=<MeanBackward0>)\n",
      "tensor(0.0305, dtype=torch.float64, grad_fn=<MeanBackward0>)\n",
      "tensor(0.0305, dtype=torch.float64, grad_fn=<MeanBackward0>)\n",
      "tensor(0.0305, dtype=torch.float64, grad_fn=<MeanBackward0>)\n",
      "tensor(0.0305, dtype=torch.float64, grad_fn=<MeanBackward0>)\n",
      "tensor(0.0305, dtype=torch.float64, grad_fn=<MeanBackward0>)\n"
     ]
    }
   ],
   "source": [
    "# Define the optimizer\n",
    "optimizer = optim.Adam([beta], lr=0.01)\n",
    "\n",
    "# Optimization loop\n",
    "losses = []\n",
    "for i in range(1000):\n",
    "  optimizer.zero_grad()  # Zero the gradients\n",
    "  #loss = torch.mean((y_torch - X_torch @ theta)**2) # Calculate the loss\n",
    "  loss = mse_loss(beta)\n",
    "  losses.append(loss.item())\n",
    "  loss.backward()       # Compute gradients\n",
    "  optimizer.step()      # Update theta\n",
    "  if i % 100 == 0:\n",
    "      print(loss)\n",
    "\n"
   ]
  },
  {
   "cell_type": "code",
   "execution_count": 42,
   "metadata": {
    "executionInfo": {
     "elapsed": 250,
     "status": "ok",
     "timestamp": 1737042386570,
     "user": {
      "displayName": "Seong-Hwan Jun",
      "userId": "10722176639861134617"
     },
     "user_tz": 300
    },
    "id": "kCVDLxebyY3x"
   },
   "outputs": [],
   "source": [
    "# Compute the closed form solution.\n",
    "X_transpose = X_torch.T\n",
    "beta_closed_form = torch.linalg.solve(X_transpose @ X_torch, X_transpose @ y_torch)\n",
    "#torch.linalg.inv(X_transpose @ X_torch) @ (X_transpose @ y_torch)"
   ]
  },
  {
   "cell_type": "code",
   "execution_count": 43,
   "metadata": {
    "colab": {
     "base_uri": "https://localhost:8080/"
    },
    "executionInfo": {
     "elapsed": 298,
     "status": "ok",
     "timestamp": 1737042387123,
     "user": {
      "displayName": "Seong-Hwan Jun",
      "userId": "10722176639861134617"
     },
     "user_tz": 300
    },
    "id": "PdURHAR0TbxJ",
    "outputId": "1d13ef24-66c5-48ec-bddc-cd9569595bd1"
   },
   "outputs": [
    {
     "name": "stdout",
     "output_type": "stream",
     "text": [
      "True beta: [ 1.46564877 -0.2257763 ]\n",
      "Optimized beta: [ 1.41628566 -0.18413969]\n",
      "Closed-form solution for theta: tensor([ 1.4163, -0.1841], dtype=torch.float64)\n"
     ]
    }
   ],
   "source": [
    "print(f\"True beta: {true_beta}\")\n",
    "print(\"Optimized beta:\", beta.data.numpy())\n",
    "print(\"Closed-form solution for theta:\", beta_closed_form)\n"
   ]
  },
  {
   "cell_type": "code",
   "execution_count": 44,
   "metadata": {
    "colab": {
     "base_uri": "https://localhost:8080/",
     "height": 469
    },
    "executionInfo": {
     "elapsed": 290,
     "status": "ok",
     "timestamp": 1737042389308,
     "user": {
      "displayName": "Seong-Hwan Jun",
      "userId": "10722176639861134617"
     },
     "user_tz": 300
    },
    "id": "B-7pHGnBTgTW",
    "outputId": "2d149aa3-0eba-411b-ab43-4bcd2af1344e"
   },
   "outputs": [
    {
     "name": "stdout",
     "output_type": "stream",
     "text": [
      "Loss: tensor(0.0305, dtype=torch.float64, grad_fn=<MeanBackward0>)\n"
     ]
    },
    {
     "data": {
      "text/plain": [
       "[<matplotlib.lines.Line2D at 0x128d87590>]"
      ]
     },
     "execution_count": 44,
     "metadata": {},
     "output_type": "execute_result"
    },
    {
     "data": {
      "image/png": "[encoded data removed]",
      "text/plain": [
       "<Figure size 640x480 with 1 Axes>"
      ]
     },
     "metadata": {},
     "output_type": "display_data"
    }
   ],
   "source": [
    "print(\"Loss:\", loss)\n",
    "plt.plot(losses)"
   ]
  },
  {
   "cell_type": "markdown",
   "metadata": {
    "id": "twnjNMFk_a5r"
   },
   "source": [
    "Let's fit a logistic regression model: $Y \\sim \\text{Bernoulli}(\\theta)$.\n",
    "\n",
    "Recall that the expectation of $Y$ is $\\theta$ and we model $\\theta$ using a logit function, leading to logistic regression:\n",
    "\n",
    "$$\\log \\frac{\\theta}{1-\\theta} = X \\beta \\Rightarrow \\theta = \\frac{\\exp(X\\beta)}{1 + \\exp(X\\beta)}.$$\n"
   ]
  },
  {
   "cell_type": "code",
   "execution_count": 45,
   "metadata": {
    "colab": {
     "base_uri": "https://localhost:8080/"
    },
    "executionInfo": {
     "elapsed": 370,
     "status": "ok",
     "timestamp": 1737042723483,
     "user": {
      "displayName": "Seong-Hwan Jun",
      "userId": "10722176639861134617"
     },
     "user_tz": 300
    },
    "id": "m6X4fshlT9mz",
    "outputId": "bf47eea4-576f-4f60-bcfb-8e500de2ac8e"
   },
   "outputs": [
    {
     "name": "stdout",
     "output_type": "stream",
     "text": [
      "(100, 2)\n"
     ]
    },
    {
     "data": {
      "text/plain": [
       "array([0, 1, 1, 1, 1, 0, 0, 1, 1, 0, 0, 1, 0, 0, 1, 0, 0, 1, 1, 1, 0, 1,\n",
       "       1, 0, 0, 1, 0, 1, 0, 0, 0, 0, 0, 1, 1, 0, 0, 1, 0, 0, 0, 0, 1, 1,\n",
       "       0, 1, 1, 0, 1, 0, 1, 0, 0, 0, 0, 1, 1, 0, 1, 0, 0, 0, 0, 0, 0, 0,\n",
       "       1, 0, 0, 0, 1, 0, 0, 1, 0, 0, 0, 0, 1, 0, 1, 0, 1, 1, 0, 1, 0, 0,\n",
       "       0, 0, 0, 0, 1, 1, 0, 0, 1, 0, 0, 0])"
      ]
     },
     "execution_count": 45,
     "metadata": {},
     "output_type": "execute_result"
    }
   ],
   "source": [
    "np.random.seed(142)\n",
    "torch.manual_seed(42)\n",
    "N = 100\n",
    "x1 = np.ones(N)\n",
    "x2 = np.random.normal(size=N)\n",
    "X = np.column_stack((x1, x2))\n",
    "print(X.shape)\n",
    "\n",
    "true_beta = np.random.normal(size = 2)\n",
    "theta = np.exp(X@true_beta) / (1 + np.exp(X@true_beta))\n",
    "y = np.random.binomial(n=1, p=theta)\n",
    "y"
   ]
  },
  {
   "cell_type": "code",
   "execution_count": 46,
   "metadata": {
    "executionInfo": {
     "elapsed": 267,
     "status": "ok",
     "timestamp": 1737043331340,
     "user": {
      "displayName": "Seong-Hwan Jun",
      "userId": "10722176639861134617"
     },
     "user_tz": 300
    },
    "id": "Y5hJGVjWBOCZ"
   },
   "outputs": [],
   "source": [
    "y_torch = torch.tensor(y)\n",
    "X_torch = torch.tensor(X)\n"
   ]
  },
  {
   "cell_type": "code",
   "execution_count": 47,
   "metadata": {
    "executionInfo": {
     "elapsed": 3,
     "status": "ok",
     "timestamp": 1737043331587,
     "user": {
      "displayName": "Seong-Hwan Jun",
      "userId": "10722176639861134617"
     },
     "user_tz": 300
    },
    "id": "xo2D1dt_2Kzl"
   },
   "outputs": [],
   "source": [
    "# Define a suitable loss function.\n",
    "def mse_loss_coin_flip(beta):\n",
    "  theta = torch.exp(X_torch @ beta) / (1 + torch.exp(X_torch @ beta))\n",
    "  loss = torch.mean((y_torch - theta)**2)\n",
    "  return loss"
   ]
  },
  {
   "cell_type": "code",
   "execution_count": 57,
   "metadata": {
    "executionInfo": {
     "elapsed": 398,
     "status": "ok",
     "timestamp": 1737043333150,
     "user": {
      "displayName": "Seong-Hwan Jun",
      "userId": "10722176639861134617"
     },
     "user_tz": 300
    },
    "id": "VT-swGb8BjVn"
   },
   "outputs": [],
   "source": [
    "beta_hat = torch.tensor(np.random.normal(size = 2), requires_grad = True)\n",
    "optimizer = optim.SGD([beta_hat], lr=0.01)\n",
    "\n",
    "losses = []\n",
    "for i in range(8000):\n",
    "  optimizer.zero_grad()\n",
    "  loss = mse_loss_coin_flip(beta_hat)\n",
    "  losses.append(loss.item())\n",
    "  loss.backward()\n",
    "  optimizer.step()\n",
    "\n"
   ]
  },
  {
   "cell_type": "code",
   "execution_count": 58,
   "metadata": {
    "colab": {
     "base_uri": "https://localhost:8080/"
    },
    "executionInfo": {
     "elapsed": 3,
     "status": "ok",
     "timestamp": 1737043333150,
     "user": {
      "displayName": "Seong-Hwan Jun",
      "userId": "10722176639861134617"
     },
     "user_tz": 300
    },
    "id": "sKNLAO37CeWx",
    "outputId": "7ffb297c-cd9a-46a7-b0df-a5180b6ac2a2"
   },
   "outputs": [
    {
     "name": "stdout",
     "output_type": "stream",
     "text": [
      "True beta: [-0.70139654  2.00806849]\n",
      "Optimized beta_hat: tensor([-0.9592,  1.7069], dtype=torch.float64, requires_grad=True)\n",
      "Loss: tensor(0.1540, dtype=torch.float64, grad_fn=<MeanBackward0>)\n"
     ]
    }
   ],
   "source": [
    "print(f\"True beta: {true_beta}\")\n",
    "print(\"Optimized beta_hat:\", beta_hat)\n",
    "print(\"Loss:\", loss)"
   ]
  },
  {
   "cell_type": "code",
   "execution_count": 59,
   "metadata": {
    "colab": {
     "base_uri": "https://localhost:8080/",
     "height": 448
    },
    "executionInfo": {
     "elapsed": 333,
     "status": "ok",
     "timestamp": 1737043337091,
     "user": {
      "displayName": "Seong-Hwan Jun",
      "userId": "10722176639861134617"
     },
     "user_tz": 300
    },
    "id": "yVmFWBTfChfM",
    "outputId": "12db7d28-2e11-49ea-86f4-f907372d8af9"
   },
   "outputs": [
    {
     "data": {
      "text/plain": [
       "[<matplotlib.lines.Line2D at 0x12657bd10>]"
      ]
     },
     "execution_count": 59,
     "metadata": {},
     "output_type": "execute_result"
    },
    {
     "data": {
      "image/png": "[encoded data removed]",
      "text/plain": [
       "<Figure size 640x480 with 1 Axes>"
      ]
     },
     "metadata": {},
     "output_type": "display_data"
    }
   ],
   "source": [
    "plt.plot(losses)"
   ]
  },
  {
   "cell_type": "markdown",
   "metadata": {
    "id": "o1Tp_NdB1nIz"
   },
   "source": [
    "Check $\\theta$."
   ]
  },
  {
   "cell_type": "code",
   "execution_count": 71,
   "metadata": {
    "colab": {
     "base_uri": "https://localhost:8080/"
    },
    "executionInfo": {
     "elapsed": 366,
     "status": "ok",
     "timestamp": 1737043574769,
     "user": {
      "displayName": "Seong-Hwan Jun",
      "userId": "10722176639861134617"
     },
     "user_tz": 300
    },
    "id": "VtR_gvkrC4xd",
    "outputId": "ebce6e8e-1d1d-4bda-dcbb-99f20b0a8071"
   },
   "outputs": [
    {
     "data": {
      "text/plain": [
       "0.0048231080627030316"
      ]
     },
     "execution_count": 71,
     "metadata": {},
     "output_type": "execute_result"
    }
   ],
   "source": [
    "beta_hat_numpy = beta_hat.data.numpy()\n",
    "theta_hat = np.exp(X@beta_hat_numpy) / (1 + np.exp(X@beta_hat_numpy))\n",
    "np.mean((theta_hat - theta)**2)"
   ]
  },
  {
   "cell_type": "code",
   "execution_count": 72,
   "metadata": {
    "colab": {
     "base_uri": "https://localhost:8080/",
     "height": 448
    },
    "executionInfo": {
     "elapsed": 270,
     "status": "ok",
     "timestamp": 1737043344042,
     "user": {
      "displayName": "Seong-Hwan Jun",
      "userId": "10722176639861134617"
     },
     "user_tz": 300
    },
    "id": "Z1ZQ-aeh1xFz",
    "outputId": "a425ec80-aa39-4979-940a-923fca4861c0",
    "scrolled": true
   },
   "outputs": [
    {
     "data": {
      "text/plain": [
       "<matplotlib.collections.PathCollection at 0x12672ed10>"
      ]
     },
     "execution_count": 72,
     "metadata": {},
     "output_type": "execute_result"
    },
    {
     "data": {
      "image/png": "[encoded data removed]",
      "text/plain": [
       "<Figure size 640x480 with 1 Axes>"
      ]
     },
     "metadata": {},
     "output_type": "display_data"
    }
   ],
   "source": [
    "plt.scatter(theta_hat, theta)\n"
   ]
  },
  {
   "cell_type": "code",
   "execution_count": 68,
   "metadata": {
    "executionInfo": {
     "elapsed": 236,
     "status": "ok",
     "timestamp": 1737043357961,
     "user": {
      "displayName": "Seong-Hwan Jun",
      "userId": "10722176639861134617"
     },
     "user_tz": 300
    },
    "id": "sOPf89el17xU"
   },
   "outputs": [],
   "source": [
    "def coin_flip_log_likelihood(beta):\n",
    "  theta = torch.exp(X_torch @ beta) / (1 + torch.exp(X_torch @ beta))\n",
    "  log_likelihood = torch.sum(y_torch * torch.log(theta) + (1 - y_torch) * torch.log(1 - theta))\n",
    "  return -log_likelihood"
   ]
  },
  {
   "cell_type": "code",
   "execution_count": 69,
   "metadata": {
    "executionInfo": {
     "elapsed": 1002,
     "status": "ok",
     "timestamp": 1737043496725,
     "user": {
      "displayName": "Seong-Hwan Jun",
      "userId": "10722176639861134617"
     },
     "user_tz": 300
    },
    "id": "0HZQtEpr2ht6"
   },
   "outputs": [],
   "source": [
    "beta_hat2 = torch.tensor(np.random.normal(size = 2), requires_grad = True)\n",
    "optimizer = optim.SGD([beta_hat2], lr=0.001)\n",
    "\n",
    "losses2 = []\n",
    "for i in range(1000):\n",
    "  optimizer.zero_grad()\n",
    "  loss = coin_flip_log_likelihood(beta_hat2)\n",
    "  losses2.append(loss.item())\n",
    "  loss.backward()\n",
    "  optimizer.step()\n",
    "\n"
   ]
  },
  {
   "cell_type": "code",
   "execution_count": 70,
   "metadata": {
    "colab": {
     "base_uri": "https://localhost:8080/"
    },
    "executionInfo": {
     "elapsed": 256,
     "status": "ok",
     "timestamp": 1737043501282,
     "user": {
      "displayName": "Seong-Hwan Jun",
      "userId": "10722176639861134617"
     },
     "user_tz": 300
    },
    "id": "54aJlXfx3En5",
    "outputId": "9c735209-1fae-4f43-e0ca-237b5a71fdde"
   },
   "outputs": [
    {
     "name": "stdout",
     "output_type": "stream",
     "text": [
      "True beta: [-0.70139654  2.00806849]\n",
      "Optimized beta_hat: tensor([-0.9029,  1.7245], dtype=torch.float64, requires_grad=True)\n",
      "Loss: tensor(46.9081, dtype=torch.float64, grad_fn=<NegBackward0>)\n"
     ]
    }
   ],
   "source": [
    "print(f\"True beta: {true_beta}\")\n",
    "print(\"Optimized beta_hat:\", beta_hat2)\n",
    "print(\"Loss:\", loss)"
   ]
  },
  {
   "cell_type": "code",
   "execution_count": 73,
   "metadata": {
    "colab": {
     "base_uri": "https://localhost:8080/",
     "height": 448
    },
    "executionInfo": {
     "elapsed": 643,
     "status": "ok",
     "timestamp": 1737043619733,
     "user": {
      "displayName": "Seong-Hwan Jun",
      "userId": "10722176639861134617"
     },
     "user_tz": 300
    },
    "id": "lfKaXnbv3F6h",
    "outputId": "beb55ea9-1f98-4681-b71a-8da390d5d6cf"
   },
   "outputs": [
    {
     "data": {
      "text/plain": [
       "<matplotlib.collections.PathCollection at 0x1266fc810>"
      ]
     },
     "execution_count": 73,
     "metadata": {},
     "output_type": "execute_result"
    },
    {
     "data": {
      "image/png": "[encoded data removed]",
      "text/plain": [
       "<Figure size 640x480 with 1 Axes>"
      ]
     },
     "metadata": {},
     "output_type": "display_data"
    }
   ],
   "source": [
    "theta_hat2 = np.exp(X@beta_hat2.data.numpy()) / (1 + np.exp(X@beta_hat2.data.numpy()))\n",
    "plt.scatter(theta_hat, theta)\n"
   ]
  },
  {
   "cell_type": "code",
   "execution_count": 74,
   "metadata": {
    "colab": {
     "base_uri": "https://localhost:8080/"
    },
    "executionInfo": {
     "elapsed": 260,
     "status": "ok",
     "timestamp": 1737043624211,
     "user": {
      "displayName": "Seong-Hwan Jun",
      "userId": "10722176639861134617"
     },
     "user_tz": 300
    },
    "id": "yVsv91Zs3JSw",
    "outputId": "95ef9841-23a1-4a0b-c10e-c4b351249a2e"
   },
   "outputs": [
    {
     "data": {
      "text/plain": [
       "0.0034017705203849007"
      ]
     },
     "execution_count": 74,
     "metadata": {},
     "output_type": "execute_result"
    }
   ],
   "source": [
    "np.mean((theta_hat2 - theta)**2)"
   ]
  },
  {
   "cell_type": "code",
   "execution_count": null,
   "metadata": {
    "id": "WzX3N3Ya3j7j"
   },
   "outputs": [],
   "source": []
  }
 ],
 "metadata": {
  "colab": {
   "authorship_tag": "ABX9TyPeI7U+rMTdhcDs7b7VmQ35",
   "provenance": []
  },
  "kernelspec": {
   "display_name": "Python 3 (ipykernel)",
   "language": "python",
   "name": "python3"
  },
  "language_info": {
   "codemirror_mode": {
    "name": "ipython",
    "version": 3
   },
   "file_extension": ".py",
   "mimetype": "text/x-python",
   "name": "python",
   "nbconvert_exporter": "python",
   "pygments_lexer": "ipython3",
   "version": "3.11.11"
  }
 },
 "nbformat": 4,
 "nbformat_minor": 4
}
