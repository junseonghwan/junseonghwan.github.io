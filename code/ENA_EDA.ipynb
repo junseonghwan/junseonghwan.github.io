{
 "cells": [
  {
   "cell_type": "code",
   "execution_count": 1,
   "metadata": {
    "collapsed": true
   },
   "outputs": [],
   "source": [
    "import pandas as pd\n",
    "import numpy as np\n"
   ]
  },
  {
   "cell_type": "code",
   "execution_count": 2,
   "metadata": {
    "scrolled": true
   },
   "outputs": [
    {
     "name": "stdout",
     "output_type": "stream",
     "text": [
      "Index(['study_accession', 'sample_accession', 'secondary_sample_accession',\n",
      "       'experiment_accession', 'run_accession', 'tax_id', 'scientific_name',\n",
      "       'instrument_model', 'library_name', 'library_layout', 'fastq_bytes',\n",
      "       'fastq_ftp'],\n",
      "      dtype='object')\n"
     ]
    }
   ],
   "source": [
    "file_name = \"table.txt\"\n",
    "\n",
    "df = pd.read_table(file_name, sep='\\t')\n",
    "print(df.columns) # check the column names, we want library_name to be there!\n"
   ]
  },
  {
   "cell_type": "code",
   "execution_count": 3,
   "metadata": {},
   "outputs": [
    {
     "name": "stdout",
     "output_type": "stream",
     "text": [
      "['KTN102', 'KTN115', 'KTN126', 'KTN129', 'KTN132', 'KTN134', 'KTN147', 'KTN152', 'KTN155', 'KTN206', 'KTN210', 'KTN215', 'KTN302', 'KTN304', 'KTN310', 'KTN316', 'KTN317', 'KTN501', 'KTN609', 'KTN612', 'KTN615']\n"
     ]
    }
   ],
   "source": [
    "patient_ids = df['library_name'].astype(str).str[0:6]\n",
    "patients = set(patient_ids)\n",
    "print(sorted(patients)) \n",
    "# there are 21 patients, but there are supposed to be only 20 patients according to the paper\n",
    "# KTN609 does not appear in the appendix of the paper: https://www.cell.com/cms/attachment/2119295259/2091819478/mmc1.pdf"
   ]
  },
  {
   "cell_type": "code",
   "execution_count": 4,
   "metadata": {},
   "outputs": [
    {
     "name": "stdout",
     "output_type": "stream",
     "text": [
      "KTN102 511\n",
      "KTN115 4\n",
      "KTN126 831\n",
      "KTN129 979\n",
      "KTN132 764\n",
      "KTN134 4\n",
      "KTN147 3\n",
      "KTN152 1035\n",
      "KTN155 3\n",
      "KTN206 3\n",
      "KTN210 3\n",
      "KTN215 3\n",
      "KTN302 976\n",
      "KTN304 4\n",
      "KTN310 3\n",
      "KTN316 3\n",
      "KTN317 4\n",
      "KTN501 3\n",
      "KTN609 3\n",
      "KTN612 3\n",
      "KTN615 606\n",
      "5702 46 5962\n"
     ]
    }
   ],
   "source": [
    "# for each patient, print out the number of data points\n",
    "s1 = 0\n",
    "s2 = 0\n",
    "for patient_id in sorted(patients):\n",
    "    length = len(df[patient_ids == patient_id])\n",
    "    print(patient_id, length)\n",
    "    if length > 100:\n",
    "        s1 += length\n",
    "    else:\n",
    "        s2 += length\n",
    "print(s1, s2, 6862 - 900)"
   ]
  },
  {
   "cell_type": "code",
   "execution_count": 5,
   "metadata": {},
   "outputs": [
    {
     "name": "stdout",
     "output_type": "stream",
     "text": [
      "{'KTN304', 'KTN501', 'KTN317', 'KTN147', 'KTN134', 'KTN210', 'KTN215', 'KTN155', 'KTN310', 'KTN612', 'KTN115', 'KTN609', 'KTN316'}\n"
     ]
    }
   ],
   "source": [
    "patient_id1 = [\"KTN126\", \"KTN129\", \"KTN206\", \"KTN302\"]\n",
    "patient_id2 = [\"KTN102\", \"KTN132\", \"KTN152\", \"KTN615\"]\n",
    "patient_id3 = patients - set(patient_id1) - set(patient_id2)\n",
    "print(patient_id3)"
   ]
  },
  {
   "cell_type": "code",
   "execution_count": 6,
   "metadata": {},
   "outputs": [
    {
     "name": "stdout",
     "output_type": "stream",
     "text": [
      "KTN126 0 827 4\n",
      "KTN129 0 975 4\n",
      "KTN206 0 0 3\n",
      "KTN302 406 563 4\n",
      "[['KTN1260', 'KTN1260cell62', 'KTN126Blood', 'KTN126OP'], ['KTN1290', 'KTN1292', 'KTN129Blood', 'KTN129OP'], ['KTN2060', 'KTN206Blood', 'KTN206OP'], ['KTN3020', 'KTN3022', 'KTN302Blood', 'KTN302OP']]\n"
     ]
    },
    {
     "data": {
      "text/plain": [
       "2786"
      ]
     },
     "execution_count": 6,
     "metadata": {},
     "output_type": "execute_result"
    }
   ],
   "source": [
    "ss1 = list()\n",
    "ss2 = list()\n",
    "ss3 = list()\n",
    "for pid1 in patient_id1:\n",
    "    df2 = df.loc[patient_ids == pid1]\n",
    "    df2 = df2.dropna(axis=0, how='any')\n",
    "    ret = list(map(lambda row: np.asarray(str(row).split(\";\"), dtype=int), list(df2['fastq_bytes'])))\n",
    "    num_files = np.array(list(map(lambda row: row.shape[0], ret)))\n",
    "    s1 = sorted(df2[num_files == 1][\"library_name\"])\n",
    "    s2 = sorted(df2[num_files == 2][\"library_name\"])\n",
    "    s3 = sorted(df2[num_files == 3][\"library_name\"])    \n",
    "    ss1.append(s1)\n",
    "    ss2.append(s2)\n",
    "    ss3.append(s3)\n",
    "    print(pid1, len(s1), len(s2), len(s3))\n",
    "print(ss3)\n",
    "np.sum(list(map(len, ss1))) + np.sum(list(map(len, ss2))) + np.sum(list(map(len, ss3)))"
   ]
  },
  {
   "cell_type": "code",
   "execution_count": 7,
   "metadata": {},
   "outputs": [
    {
     "name": "stdout",
     "output_type": "stream",
     "text": [
      "KTN102 143 275 93\n",
      "KTN132 93 667 4\n",
      "KTN152 1030 0 4\n",
      "KTN615 91 511 4\n",
      "[['KTN1320', 'KTN1322', 'KTN132Blood', 'KTN132OP'], ['KTN1520', 'KTN1522', 'KTN152Blood', 'KTN152OP'], ['KTN6150', 'KTN6152', 'KTN6152cell76', 'KTN615Blood']]\n"
     ]
    },
    {
     "data": {
      "text/plain": [
       "4263"
      ]
     },
     "execution_count": 7,
     "metadata": {},
     "output_type": "execute_result"
    }
   ],
   "source": [
    "ss1 = list()\n",
    "ss2 = list()\n",
    "ss3 = list()\n",
    "for pid2 in patient_id2:\n",
    "    df2 = df.loc[patient_ids == pid2]\n",
    "    df2 = df2.dropna(axis=0, how='any')\n",
    "    ret = list(map(lambda row: np.asarray(str(row).split(\";\"), dtype=int), list(df2['fastq_bytes'])))\n",
    "    num_files = np.array(list(map(lambda row: row.shape[0], ret)))\n",
    "    s1 = sorted(df2[num_files == 1][\"library_name\"])\n",
    "    s2 = sorted(df2[num_files == 2][\"library_name\"])\n",
    "    s3 = sorted(df2[num_files == 3][\"library_name\"])    \n",
    "    ss1.append(s1)\n",
    "    ss2.append(s2)\n",
    "    ss3.append(s3)\n",
    "    print(pid2, len(s1), len(s2), len(s3))\n",
    "print(ss3[1:4])\n",
    "np.sum(list(map(len, ss1))) + np.sum(list(map(len, ss2))) + np.sum(list(map(len, ss2)))"
   ]
  },
  {
   "cell_type": "code",
   "execution_count": 241,
   "metadata": {},
   "outputs": [
    {
     "name": "stdout",
     "output_type": "stream",
     "text": [
      "KTN215 0 0 3\n",
      "KTN210 0 0 3\n",
      "KTN134 0 0 4\n",
      "KTN612 0 0 3\n",
      "KTN609 0 0 3\n",
      "KTN304 0 0 4\n",
      "KTN147 0 0 3\n",
      "KTN155 0 0 3\n",
      "KTN310 0 0 3\n",
      "KTN501 0 0 3\n",
      "KTN316 0 0 3\n",
      "KTN115 0 0 4\n",
      "KTN317 0 0 4\n",
      "[['KTN215-0', 'KTN215Blood', 'KTN215OP'], ['KTN2100', 'KTN210Blood', 'KTN210OP'], ['KTN1340', 'KTN1342', 'KTN134Blood', 'KTN134OP'], ['KTN6120', 'KTN612Blood', 'KTN612OP'], ['KTN6090', 'KTN609Blood', 'KTN609OP'], ['KTN3040', 'KTN3042', 'KTN304Blood', 'KTN304OP'], ['KTN1470', 'KTN147Blood', 'KTN147OP'], ['KTN1550', 'KTN155Blood', 'KTN155OP'], ['KTN3100', 'KTN3102', 'KTN310Blood'], ['KTN5010', 'KTN501Blood', 'KTN501OP'], ['KTN3160', 'KTN316Blood', 'KTN316OP'], ['KTN1150', 'KTN1152', 'KTN115Blood', 'KTN115OP'], ['KTN3170', 'KTN3172', 'KTN317Blood', 'KTN317OP']]\n"
     ]
    },
    {
     "data": {
      "text/plain": [
       "43"
      ]
     },
     "execution_count": 241,
     "metadata": {},
     "output_type": "execute_result"
    }
   ],
   "source": [
    "ss1 = list()\n",
    "ss2 = list()\n",
    "ss3 = list()\n",
    "for pid3 in patient_id3:\n",
    "    df2 = df.loc[patient_ids == pid3]\n",
    "    df2 = df2.dropna(axis=0, how='any')\n",
    "    ret = list(map(lambda row: np.asarray(str(row).split(\";\"), dtype=int), list(df2['fastq_bytes'])))\n",
    "    num_files = np.array(list(map(lambda row: row.shape[0], ret)))\n",
    "    s1 = sorted(df2[num_files == 1][\"library_name\"])\n",
    "    s2 = sorted(df2[num_files == 2][\"library_name\"])\n",
    "    s3 = sorted(df2[num_files == 3][\"library_name\"])    \n",
    "    ss1.append(s1)\n",
    "    ss2.append(s2)\n",
    "    ss3.append(s3)\n",
    "    print(pid3, len(s1), len(s2), len(s3))\n",
    "print(ss3)\n",
    "np.sum(list(map(len, ss1))) + np.sum(list(map(len, ss2))) + np.sum(list(map(len, ss3)))"
   ]
  },
  {
   "cell_type": "code",
   "execution_count": null,
   "metadata": {
    "collapsed": true
   },
   "outputs": [],
   "source": []
  }
 ],
 "metadata": {
  "kernelspec": {
   "display_name": "Python 3",
   "language": "python",
   "name": "python3"
  },
  "language_info": {
   "codemirror_mode": {
    "name": "ipython",
    "version": 3
   },
   "file_extension": ".py",
   "mimetype": "text/x-python",
   "name": "python",
   "nbconvert_exporter": "python",
   "pygments_lexer": "ipython3",
   "version": "3.6.3"
  }
 },
 "nbformat": 4,
 "nbformat_minor": 2
}
